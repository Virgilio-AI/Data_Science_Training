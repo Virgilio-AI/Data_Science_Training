{
 "cells": [
  {
   "cell_type": "code",
   "execution_count": 103,
   "id": "3b58ebce",
   "metadata": {},
   "outputs": [],
   "source": [
    "%config InlineBackend.figure_formats = ['svg']\n",
    "from numpy.random import randint\n",
    "import numpy as np # for importing numpy\n",
    "import pandas as pd # for importing pandas\n",
    "\n",
    "import seaborn as sns # seaborn is used to plot\n",
    "from matplotlib.animation import ArtistAnimation\n",
    "import random\n",
    "import os"
   ]
  },
  {
   "cell_type": "code",
   "execution_count": 104,
   "id": "93c1ffd0",
   "metadata": {},
   "outputs": [],
   "source": [
    "\n",
    "from scipy import stats "
   ]
  },
  {
   "cell_type": "code",
   "execution_count": 105,
   "id": "f4b9f5e3",
   "metadata": {},
   "outputs": [],
   "source": [
    "data = pd.DataFrame({'salaries':[33219, 36254, 38801, 46335, 46840,47596, 55130, 56863, 78070, 88830]})"
   ]
  },
  {
   "cell_type": "code",
   "execution_count": 106,
   "id": "751891c6",
   "metadata": {},
   "outputs": [],
   "source": [
    "# get all using pandas for poblational data"
   ]
  },
  {
   "cell_type": "code",
   "execution_count": 107,
   "id": "28b13f2e",
   "metadata": {},
   "outputs": [],
   "source": [
    "pop_var = data['salaries'].var(ddof=0)\n",
    "sam_var = data['salaries'].var(ddof=1)\n",
    "# n - ddof\n",
    "# 49"
   ]
  },
  {
   "cell_type": "code",
   "execution_count": 108,
   "id": "611dfc8a",
   "metadata": {},
   "outputs": [
    {
     "name": "stdout",
     "output_type": "stream",
     "text": [
      "291622740.36 324025267.06666666\n"
     ]
    }
   ],
   "source": [
    "print(pop_var, sam_var)"
   ]
  },
  {
   "cell_type": "code",
   "execution_count": 109,
   "id": "5dfbfd29",
   "metadata": {},
   "outputs": [],
   "source": [
    "# get the sample standard deviation and the population standard deviation\n",
    "pop_std = data['salaries'].std(ddof=0)\n",
    "sam_std = data['salaries'].std(ddof=1)"
   ]
  },
  {
   "cell_type": "code",
   "execution_count": 110,
   "id": "f5df9d91",
   "metadata": {},
   "outputs": [
    {
     "name": "stdout",
     "output_type": "stream",
     "text": [
      "17076.965197598784 18000.70184927984\n"
     ]
    }
   ],
   "source": [
    "print(pop_std, sam_std)"
   ]
  },
  {
   "cell_type": "code",
   "execution_count": 111,
   "id": "7417603c",
   "metadata": {},
   "outputs": [
    {
     "name": "stdout",
     "output_type": "stream",
     "text": [
      "<class 'pandas.core.frame.DataFrame'>\n",
      "RangeIndex: 10 entries, 0 to 9\n",
      "Data columns (total 1 columns):\n",
      " #   Column    Non-Null Count  Dtype\n",
      "---  ------    --------------  -----\n",
      " 0   salaries  10 non-null     int64\n",
      "dtypes: int64(1)\n",
      "memory usage: 208.0 bytes\n"
     ]
    }
   ],
   "source": [
    "data.info()"
   ]
  },
  {
   "cell_type": "code",
   "execution_count": 112,
   "id": "b1a9e121",
   "metadata": {},
   "outputs": [],
   "source": [
    "# now get all the values manually"
   ]
  },
  {
   "cell_type": "code",
   "execution_count": 113,
   "id": "8444d88c",
   "metadata": {},
   "outputs": [],
   "source": [
    "# mean\n",
    "n =  len(data)\n",
    "sm = 0\n",
    "for i in range(n):\n",
    "\tsm += data['salaries'][i]\n",
    "\n",
    "pop_mean = sm/n\n",
    "sam_mean = pop_mean"
   ]
  },
  {
   "cell_type": "code",
   "execution_count": 114,
   "id": "9b6e512c",
   "metadata": {},
   "outputs": [
    {
     "data": {
      "text/plain": [
       "(52793.8, 52793.8)"
      ]
     },
     "execution_count": 114,
     "metadata": {},
     "output_type": "execute_result"
    }
   ],
   "source": [
    "pop_mean, sam_mean"
   ]
  },
  {
   "cell_type": "code",
   "execution_count": 115,
   "id": "5d480711",
   "metadata": {},
   "outputs": [],
   "source": [
    "sq_diff = 0\n",
    "for i in range(n):\n",
    "\tsq_diff += (data['salaries'][i] - pop_mean) ** 2\n",
    "\n",
    "pop_var = sq_diff/n\n",
    "sam_var = sq_diff/(n-1)"
   ]
  },
  {
   "cell_type": "code",
   "execution_count": 116,
   "id": "4ce59eb7",
   "metadata": {},
   "outputs": [],
   "source": [
    "pop_std = pop_var ** 0.5\n",
    "sam_std = sam_var ** 0.5"
   ]
  },
  {
   "cell_type": "code",
   "execution_count": 117,
   "id": "6573e50b",
   "metadata": {},
   "outputs": [
    {
     "data": {
      "text/plain": [
       "(17076.965197598784, 18000.70184927984)"
      ]
     },
     "execution_count": 117,
     "metadata": {},
     "output_type": "execute_result"
    }
   ],
   "source": [
    "pop_std, sam_std"
   ]
  },
  {
   "cell_type": "code",
   "execution_count": 118,
   "id": "0ef55eb3",
   "metadata": {},
   "outputs": [],
   "source": [
    "mu = 5 \n",
    "std = 2"
   ]
  },
  {
   "cell_type": "code",
   "execution_count": 119,
   "id": "a9a7ddb0",
   "metadata": {},
   "outputs": [],
   "source": [
    "array = stats.norm.rvs(size=10, loc = mu, scale = std)"
   ]
  },
  {
   "cell_type": "code",
   "execution_count": 120,
   "id": "aa599462",
   "metadata": {},
   "outputs": [
    {
     "data": {
      "text/plain": [
       "array([ 7.78749919,  7.52884374,  6.47317043,  5.25060601,  9.09285156,\n",
       "        6.52565016,  3.89668145,  5.90416194, 10.1991209 ,  4.78202866])"
      ]
     },
     "execution_count": 120,
     "metadata": {},
     "output_type": "execute_result"
    }
   ],
   "source": [
    "array[:10]"
   ]
  },
  {
   "cell_type": "code",
   "execution_count": 121,
   "id": "53b43446",
   "metadata": {},
   "outputs": [
    {
     "data": {
      "text/plain": [
       "(6.744061404324654, 1.9485883126551433)"
      ]
     },
     "execution_count": 121,
     "metadata": {},
     "output_type": "execute_result"
    }
   ],
   "source": [
    "array.mean(), array.std(ddof = 1)"
   ]
  },
  {
   "cell_type": "code",
   "execution_count": 122,
   "id": "3227882a",
   "metadata": {},
   "outputs": [],
   "source": [
    "df = pd.DataFrame({'salaries':array})"
   ]
  },
  {
   "cell_type": "code",
   "execution_count": 123,
   "id": "d502c38a",
   "metadata": {},
   "outputs": [
    {
     "data": {
      "text/plain": [
       "salaries    2.30884\n",
       "dtype: float64"
      ]
     },
     "execution_count": 123,
     "metadata": {},
     "output_type": "execute_result"
    }
   ],
   "source": [
    "df.apply(lambda x: x.quantile(0.75) - x.quantile(0.25))"
   ]
  },
  {
   "cell_type": "code",
   "execution_count": 124,
   "id": "16527f77",
   "metadata": {},
   "outputs": [
    {
     "data": {
      "text/html": [
       "<div>\n",
       "<style scoped>\n",
       "    .dataframe tbody tr th:only-of-type {\n",
       "        vertical-align: middle;\n",
       "    }\n",
       "\n",
       "    .dataframe tbody tr th {\n",
       "        vertical-align: top;\n",
       "    }\n",
       "\n",
       "    .dataframe thead th {\n",
       "        text-align: right;\n",
       "    }\n",
       "</style>\n",
       "<table border=\"1\" class=\"dataframe\">\n",
       "  <thead>\n",
       "    <tr style=\"text-align: right;\">\n",
       "      <th></th>\n",
       "      <th>scores</th>\n",
       "    </tr>\n",
       "  </thead>\n",
       "  <tbody>\n",
       "    <tr>\n",
       "      <th>0</th>\n",
       "      <td>25.104179</td>\n",
       "    </tr>\n",
       "    <tr>\n",
       "      <th>1</th>\n",
       "      <td>60.908747</td>\n",
       "    </tr>\n",
       "    <tr>\n",
       "      <th>2</th>\n",
       "      <td>23.222238</td>\n",
       "    </tr>\n",
       "    <tr>\n",
       "      <th>3</th>\n",
       "      <td>51.553491</td>\n",
       "    </tr>\n",
       "    <tr>\n",
       "      <th>4</th>\n",
       "      <td>22.629690</td>\n",
       "    </tr>\n",
       "  </tbody>\n",
       "</table>\n",
       "</div>"
      ],
      "text/plain": [
       "      scores\n",
       "0  25.104179\n",
       "1  60.908747\n",
       "2  23.222238\n",
       "3  51.553491\n",
       "4  22.629690"
      ]
     },
     "execution_count": 124,
     "metadata": {},
     "output_type": "execute_result"
    }
   ],
   "source": [
    "data = pd.read_csv('data/klout-scores.csv', header = None, names = ['scores'])\n",
    "data.head()"
   ]
  },
  {
   "cell_type": "code",
   "execution_count": 125,
   "id": "bd7596d7",
   "metadata": {},
   "outputs": [],
   "source": [
    "n = data.scores.count()\n",
    "\n",
    "confidence_coef = 0.95\n",
    "\n",
    "alpha = 1. - confidence_coef\n",
    "\n",
    "# an easier way to get critacal value scipy.stats\n",
    "# interval function, The alpha .95 being a little bit different from the alpha 0.05\n",
    "\n",
    "zscore_interval = stats.norm.interval(confidence_coef)"
   ]
  },
  {
   "cell_type": "code",
   "execution_count": 126,
   "id": "3078c65c",
   "metadata": {},
   "outputs": [
    {
     "data": {
      "text/plain": [
       "(-1.959963984540054, 1.959963984540054)"
      ]
     },
     "execution_count": 126,
     "metadata": {},
     "output_type": "execute_result"
    }
   ],
   "source": [
    "zscore_interval\n",
    "\n"
   ]
  },
  {
   "cell_type": "code",
   "execution_count": 127,
   "id": "13457f53",
   "metadata": {},
   "outputs": [],
   "source": [
    "mu = 5\n",
    "std = 2"
   ]
  },
  {
   "cell_type": "code",
   "execution_count": 128,
   "id": "33962dab",
   "metadata": {},
   "outputs": [],
   "source": [
    "mu = 5\n",
    "std = 2 \n",
    "y = stats.norm.rvs(mu, std, size=1000)"
   ]
  },
  {
   "cell_type": "code",
   "execution_count": 129,
   "id": "c364c79b",
   "metadata": {},
   "outputs": [
    {
     "data": {
      "text/plain": [
       "(5.035829731677526, 2.017914918551852, 2.018924633360373)"
      ]
     },
     "execution_count": 129,
     "metadata": {},
     "output_type": "execute_result"
    }
   ],
   "source": [
    "y.mean(), y.std(ddof=0), y.std(ddof=1)"
   ]
  },
  {
   "cell_type": "code",
   "execution_count": 130,
   "id": "a177e765",
   "metadata": {},
   "outputs": [],
   "source": [
    "x = np.random.normal(mu, std, size = 100)"
   ]
  },
  {
   "cell_type": "code",
   "execution_count": 131,
   "id": "099b56a1",
   "metadata": {},
   "outputs": [
    {
     "data": {
      "text/plain": [
       "(4.905693341098335, 2.1867513796897975, 2.1977678291585017)"
      ]
     },
     "execution_count": 131,
     "metadata": {},
     "output_type": "execute_result"
    }
   ],
   "source": [
    "x.mean(), x.std(ddof=0), x.std(ddof=1)"
   ]
  },
  {
   "cell_type": "code",
   "execution_count": 132,
   "id": "efd9245b",
   "metadata": {},
   "outputs": [
    {
     "data": {
      "text/plain": [
       "3.0631977752241935"
      ]
     },
     "execution_count": 132,
     "metadata": {},
     "output_type": "execute_result"
    }
   ],
   "source": [
    "df = pd.DataFrame({'salaries':x})\n",
    "\n",
    "df['salaries'].quantile(0.75) - df['salaries'].quantile(0.25)"
   ]
  },
  {
   "cell_type": "code",
   "execution_count": 133,
   "id": "4059649e",
   "metadata": {},
   "outputs": [
    {
     "data": {
      "text/plain": [
       "salaries    3.063198\n",
       "dtype: float64"
      ]
     },
     "execution_count": 133,
     "metadata": {},
     "output_type": "execute_result"
    }
   ],
   "source": [
    "df.apply(lambda x: x.quantile(0.75) - x.quantile(0.25))"
   ]
  },
  {
   "cell_type": "code",
   "execution_count": 134,
   "id": "87bc9244",
   "metadata": {},
   "outputs": [
    {
     "data": {
      "text/plain": [
       "count    50.000000\n",
       "mean      2.340000\n",
       "std       1.709637\n",
       "min       0.000000\n",
       "25%       1.000000\n",
       "50%       2.000000\n",
       "75%       3.000000\n",
       "max       8.000000\n",
       "dtype: float64"
      ]
     },
     "execution_count": 134,
     "metadata": {},
     "output_type": "execute_result"
    }
   ],
   "source": [
    "# Create a set with an obvious non-normal distribution\n",
    "data = pd.Series([1,1,0,1,2,2,3,2,1,3,3,2,8,2,1,6,2,1,1,2,2,1,3,2,1,\n",
    "\t\t\t\t\t\t2,3,6,2,3,2,2,1,2,2,3,2,1,2,3,2,3,2,3,1,6,1,8,1,1])\n",
    "data.describe()"
   ]
  },
  {
   "cell_type": "code",
   "execution_count": 135,
   "id": "76d60b78",
   "metadata": {},
   "outputs": [
    {
     "data": {
      "text/plain": [
       "(0.7413722276687622, 4.960041621870914e-08)"
      ]
     },
     "execution_count": 135,
     "metadata": {},
     "output_type": "execute_result"
    }
   ],
   "source": [
    "# the null hypothesis is that data was drawn from a normal distribution\n",
    "# it returns non statistic and the probability that this statistic \n",
    "# came from a normal distribution ( p  value)\n",
    "w, p = stats.shapiro(data)\n",
    "w,p"
   ]
  },
  {
   "cell_type": "code",
   "execution_count": 136,
   "id": "8aafda80",
   "metadata": {},
   "outputs": [
    {
     "data": {
      "text/plain": [
       "False"
      ]
     },
     "execution_count": 136,
     "metadata": {},
     "output_type": "execute_result"
    }
   ],
   "source": [
    "# test the null hypothesis with 5% alpha\n",
    "alpha = 0.05\n",
    "p > alpha"
   ]
  },
  {
   "cell_type": "code",
   "execution_count": 137,
   "id": "1feb5721",
   "metadata": {},
   "outputs": [],
   "source": [
    "\n",
    "data = pd.DataFrame({'salaries':[33219, 36254, 38801, 46335, 46840,47596, 55130, 56863, 78070, 88830]})"
   ]
  },
  {
   "cell_type": "code",
   "execution_count": 138,
   "id": "b0937daf",
   "metadata": {},
   "outputs": [],
   "source": [
    "n = len(data)"
   ]
  },
  {
   "cell_type": "code",
   "execution_count": 139,
   "id": "4243f676",
   "metadata": {},
   "outputs": [],
   "source": [
    "var, mean, std = 0,0,0\n",
    "\n",
    "for i in range(n):\n",
    "\tmean += data['salaries'][i]\n",
    "\n",
    "mean = mean/n"
   ]
  },
  {
   "cell_type": "code",
   "execution_count": 140,
   "id": "3fa88d1d",
   "metadata": {},
   "outputs": [],
   "source": [
    "for i in range(n):\n",
    "\tvar += (data['salaries'][i] - mean) ** 2\n",
    "\n",
    "var = var / n\n",
    "std = var ** 0.5"
   ]
  },
  {
   "cell_type": "code",
   "execution_count": 141,
   "id": "21359504",
   "metadata": {},
   "outputs": [
    {
     "data": {
      "text/plain": [
       "(52793.8, 291622740.36, 17076.965197598784)"
      ]
     },
     "execution_count": 141,
     "metadata": {},
     "output_type": "execute_result"
    }
   ],
   "source": [
    "mean, var, std"
   ]
  },
  {
   "cell_type": "code",
   "execution_count": 142,
   "id": "dddf98b0",
   "metadata": {},
   "outputs": [],
   "source": [
    "pmean, pvar, pstd = data['salaries'].mean(), data['salaries'].var(ddof=0), data['salaries'].std(ddof=0)"
   ]
  },
  {
   "cell_type": "code",
   "execution_count": 143,
   "id": "9a3d5b49",
   "metadata": {},
   "outputs": [
    {
     "data": {
      "text/plain": [
       "(52793.8, 291622740.36, 17076.965197598784)"
      ]
     },
     "execution_count": 143,
     "metadata": {},
     "output_type": "execute_result"
    }
   ],
   "source": [
    "\n",
    "pmean, pvar, pstd"
   ]
  },
  {
   "cell_type": "code",
   "execution_count": 144,
   "id": "7114ffab",
   "metadata": {},
   "outputs": [
    {
     "data": {
      "text/html": [
       "<div>\n",
       "<style scoped>\n",
       "    .dataframe tbody tr th:only-of-type {\n",
       "        vertical-align: middle;\n",
       "    }\n",
       "\n",
       "    .dataframe tbody tr th {\n",
       "        vertical-align: top;\n",
       "    }\n",
       "\n",
       "    .dataframe thead th {\n",
       "        text-align: right;\n",
       "    }\n",
       "</style>\n",
       "<table border=\"1\" class=\"dataframe\">\n",
       "  <thead>\n",
       "    <tr style=\"text-align: right;\">\n",
       "      <th></th>\n",
       "      <th>year</th>\n",
       "      <th>name</th>\n",
       "      <th>prop</th>\n",
       "      <th>sex</th>\n",
       "      <th>soundex</th>\n",
       "    </tr>\n",
       "  </thead>\n",
       "  <tbody>\n",
       "    <tr>\n",
       "      <th>0</th>\n",
       "      <td>1880</td>\n",
       "      <td>John</td>\n",
       "      <td>0.081541</td>\n",
       "      <td>boy</td>\n",
       "      <td>J500</td>\n",
       "    </tr>\n",
       "    <tr>\n",
       "      <th>1</th>\n",
       "      <td>1880</td>\n",
       "      <td>William</td>\n",
       "      <td>0.080511</td>\n",
       "      <td>boy</td>\n",
       "      <td>W450</td>\n",
       "    </tr>\n",
       "    <tr>\n",
       "      <th>2</th>\n",
       "      <td>1880</td>\n",
       "      <td>James</td>\n",
       "      <td>0.050057</td>\n",
       "      <td>boy</td>\n",
       "      <td>J520</td>\n",
       "    </tr>\n",
       "    <tr>\n",
       "      <th>3</th>\n",
       "      <td>1880</td>\n",
       "      <td>Charles</td>\n",
       "      <td>0.045167</td>\n",
       "      <td>boy</td>\n",
       "      <td>C642</td>\n",
       "    </tr>\n",
       "    <tr>\n",
       "      <th>4</th>\n",
       "      <td>1880</td>\n",
       "      <td>George</td>\n",
       "      <td>0.043292</td>\n",
       "      <td>boy</td>\n",
       "      <td>G620</td>\n",
       "    </tr>\n",
       "  </tbody>\n",
       "</table>\n",
       "</div>"
      ],
      "text/plain": [
       "   year     name      prop  sex soundex\n",
       "0  1880     John  0.081541  boy    J500\n",
       "1  1880  William  0.080511  boy    W450\n",
       "2  1880    James  0.050057  boy    J520\n",
       "3  1880  Charles  0.045167  boy    C642\n",
       "4  1880   George  0.043292  boy    G620"
      ]
     },
     "execution_count": 144,
     "metadata": {},
     "output_type": "execute_result"
    }
   ],
   "source": [
    "\n",
    "# The data set contains the top 1000 baby names in the US\n",
    "# for each year from 1880 until 2008\n",
    "names_df = pd.read_csv('data/baby-names2.csv')\n",
    "names_df.head()"
   ]
  },
  {
   "cell_type": "code",
   "execution_count": 145,
   "id": "a3576504",
   "metadata": {},
   "outputs": [
    {
     "data": {
      "text/html": [
       "<div>\n",
       "<style scoped>\n",
       "    .dataframe tbody tr th:only-of-type {\n",
       "        vertical-align: middle;\n",
       "    }\n",
       "\n",
       "    .dataframe tbody tr th {\n",
       "        vertical-align: top;\n",
       "    }\n",
       "\n",
       "    .dataframe thead th {\n",
       "        text-align: right;\n",
       "    }\n",
       "</style>\n",
       "<table border=\"1\" class=\"dataframe\">\n",
       "  <thead>\n",
       "    <tr style=\"text-align: right;\">\n",
       "      <th></th>\n",
       "      <th>Gender</th>\n",
       "      <th>City</th>\n",
       "      <th>Attended</th>\n",
       "      <th>Value</th>\n",
       "    </tr>\n",
       "  </thead>\n",
       "  <tbody>\n",
       "    <tr>\n",
       "      <th>0</th>\n",
       "      <td>girl</td>\n",
       "      <td>New York</td>\n",
       "      <td>Yes</td>\n",
       "      <td>0.991472</td>\n",
       "    </tr>\n",
       "    <tr>\n",
       "      <th>1</th>\n",
       "      <td>boy</td>\n",
       "      <td>London</td>\n",
       "      <td>No</td>\n",
       "      <td>0.980504</td>\n",
       "    </tr>\n",
       "    <tr>\n",
       "      <th>2</th>\n",
       "      <td>boy</td>\n",
       "      <td>Amsterdam</td>\n",
       "      <td>Yes</td>\n",
       "      <td>0.969145</td>\n",
       "    </tr>\n",
       "    <tr>\n",
       "      <th>3</th>\n",
       "      <td>boy</td>\n",
       "      <td>Amsterdam</td>\n",
       "      <td>No</td>\n",
       "      <td>0.968502</td>\n",
       "    </tr>\n",
       "    <tr>\n",
       "      <th>4</th>\n",
       "      <td>man</td>\n",
       "      <td>London</td>\n",
       "      <td>Yes</td>\n",
       "      <td>0.938684</td>\n",
       "    </tr>\n",
       "  </tbody>\n",
       "</table>\n",
       "</div>"
      ],
      "text/plain": [
       "  Gender       City Attended     Value\n",
       "0   girl   New York      Yes  0.991472\n",
       "1    boy     London       No  0.980504\n",
       "2    boy  Amsterdam      Yes  0.969145\n",
       "3    boy  Amsterdam       No  0.968502\n",
       "4    man     London      Yes  0.938684"
      ]
     },
     "execution_count": 145,
     "metadata": {},
     "output_type": "execute_result"
    }
   ],
   "source": [
    "\n",
    "\n",
    "# Load the original dataframe from csv\n",
    "df = pd.read_csv('data/feature-engineering.csv')\n",
    "df.head()"
   ]
  },
  {
   "cell_type": "code",
   "execution_count": 146,
   "id": "ce5b2cbe",
   "metadata": {},
   "outputs": [
    {
     "name": "stderr",
     "output_type": "stream",
     "text": [
      "/home/rockhight/Documents/bosonit/files/data_science_exercises/venv/lib/python3.10/site-packages/sklearn/preprocessing/_encoders.py:808: FutureWarning: `sparse` was renamed to `sparse_output` in version 1.2 and will be removed in 1.4. `sparse_output` is ignored unless you leave `sparse` to its default value.\n",
      "  warnings.warn(\n"
     ]
    }
   ],
   "source": [
    "from sklearn.preprocessing import OneHotEncoder\n",
    "# do a binary one hot encoding for the Attended column\n",
    "encoded = OneHotEncoder(sparse=False).fit_transform(df[['Attended']])"
   ]
  },
  {
   "cell_type": "code",
   "execution_count": 147,
   "id": "9048c221",
   "metadata": {
    "scrolled": true
   },
   "outputs": [
    {
     "data": {
      "text/plain": [
       "array([[0., 1.],\n",
       "       [1., 0.],\n",
       "       [0., 1.],\n",
       "       [1., 0.],\n",
       "       [0., 1.],\n",
       "       [1., 0.],\n",
       "       [0., 1.],\n",
       "       [1., 0.],\n",
       "       [0., 1.],\n",
       "       [1., 0.],\n",
       "       [1., 0.],\n",
       "       [1., 0.],\n",
       "       [0., 1.],\n",
       "       [0., 1.],\n",
       "       [0., 1.],\n",
       "       [0., 1.],\n",
       "       [0., 1.],\n",
       "       [0., 1.],\n",
       "       [1., 0.],\n",
       "       [1., 0.],\n",
       "       [1., 0.],\n",
       "       [1., 0.],\n",
       "       [1., 0.],\n",
       "       [0., 1.],\n",
       "       [0., 1.],\n",
       "       [0., 1.],\n",
       "       [0., 1.],\n",
       "       [0., 1.],\n",
       "       [1., 0.],\n",
       "       [0., 1.],\n",
       "       [0., 1.],\n",
       "       [1., 0.],\n",
       "       [1., 0.],\n",
       "       [0., 1.],\n",
       "       [1., 0.],\n",
       "       [1., 0.],\n",
       "       [0., 1.],\n",
       "       [0., 1.],\n",
       "       [1., 0.],\n",
       "       [1., 0.],\n",
       "       [0., 1.],\n",
       "       [1., 0.],\n",
       "       [0., 1.],\n",
       "       [0., 1.],\n",
       "       [0., 1.],\n",
       "       [0., 1.],\n",
       "       [1., 0.],\n",
       "       [1., 0.],\n",
       "       [1., 0.],\n",
       "       [1., 0.],\n",
       "       [0., 1.],\n",
       "       [0., 1.],\n",
       "       [1., 0.],\n",
       "       [1., 0.],\n",
       "       [1., 0.],\n",
       "       [1., 0.],\n",
       "       [1., 0.],\n",
       "       [1., 0.],\n",
       "       [0., 1.],\n",
       "       [0., 1.],\n",
       "       [0., 1.],\n",
       "       [1., 0.],\n",
       "       [1., 0.],\n",
       "       [1., 0.],\n",
       "       [0., 1.],\n",
       "       [0., 1.],\n",
       "       [1., 0.],\n",
       "       [1., 0.],\n",
       "       [1., 0.],\n",
       "       [0., 1.],\n",
       "       [1., 0.],\n",
       "       [1., 0.],\n",
       "       [1., 0.],\n",
       "       [1., 0.],\n",
       "       [1., 0.],\n",
       "       [1., 0.],\n",
       "       [1., 0.],\n",
       "       [0., 1.],\n",
       "       [0., 1.],\n",
       "       [0., 1.],\n",
       "       [1., 0.],\n",
       "       [0., 1.],\n",
       "       [0., 1.],\n",
       "       [1., 0.],\n",
       "       [1., 0.],\n",
       "       [1., 0.],\n",
       "       [0., 1.],\n",
       "       [0., 1.],\n",
       "       [1., 0.],\n",
       "       [1., 0.],\n",
       "       [1., 0.],\n",
       "       [0., 1.],\n",
       "       [1., 0.],\n",
       "       [0., 1.],\n",
       "       [0., 1.],\n",
       "       [1., 0.],\n",
       "       [1., 0.],\n",
       "       [1., 0.],\n",
       "       [1., 0.],\n",
       "       [0., 1.]])"
      ]
     },
     "execution_count": 147,
     "metadata": {},
     "output_type": "execute_result"
    }
   ],
   "source": [
    "encoded"
   ]
  },
  {
   "cell_type": "code",
   "execution_count": 148,
   "id": "b87484a5",
   "metadata": {},
   "outputs": [],
   "source": [
    "df = pd.concat([df, pd.DataFrame(encoded, columns = ['Attended(yes)','Attended(no'])],axis = 1)"
   ]
  },
  {
   "cell_type": "code",
   "execution_count": 149,
   "id": "cbf4ea2e",
   "metadata": {},
   "outputs": [
    {
     "data": {
      "text/html": [
       "<div>\n",
       "<style scoped>\n",
       "    .dataframe tbody tr th:only-of-type {\n",
       "        vertical-align: middle;\n",
       "    }\n",
       "\n",
       "    .dataframe tbody tr th {\n",
       "        vertical-align: top;\n",
       "    }\n",
       "\n",
       "    .dataframe thead th {\n",
       "        text-align: right;\n",
       "    }\n",
       "</style>\n",
       "<table border=\"1\" class=\"dataframe\">\n",
       "  <thead>\n",
       "    <tr style=\"text-align: right;\">\n",
       "      <th></th>\n",
       "      <th>Gender</th>\n",
       "      <th>City</th>\n",
       "      <th>Attended</th>\n",
       "      <th>Value</th>\n",
       "      <th>Attended(yes)</th>\n",
       "      <th>Attended(no</th>\n",
       "    </tr>\n",
       "  </thead>\n",
       "  <tbody>\n",
       "    <tr>\n",
       "      <th>0</th>\n",
       "      <td>girl</td>\n",
       "      <td>New York</td>\n",
       "      <td>Yes</td>\n",
       "      <td>0.991472</td>\n",
       "      <td>0.0</td>\n",
       "      <td>1.0</td>\n",
       "    </tr>\n",
       "    <tr>\n",
       "      <th>1</th>\n",
       "      <td>boy</td>\n",
       "      <td>London</td>\n",
       "      <td>No</td>\n",
       "      <td>0.980504</td>\n",
       "      <td>1.0</td>\n",
       "      <td>0.0</td>\n",
       "    </tr>\n",
       "    <tr>\n",
       "      <th>2</th>\n",
       "      <td>boy</td>\n",
       "      <td>Amsterdam</td>\n",
       "      <td>Yes</td>\n",
       "      <td>0.969145</td>\n",
       "      <td>0.0</td>\n",
       "      <td>1.0</td>\n",
       "    </tr>\n",
       "    <tr>\n",
       "      <th>3</th>\n",
       "      <td>boy</td>\n",
       "      <td>Amsterdam</td>\n",
       "      <td>No</td>\n",
       "      <td>0.968502</td>\n",
       "      <td>1.0</td>\n",
       "      <td>0.0</td>\n",
       "    </tr>\n",
       "    <tr>\n",
       "      <th>4</th>\n",
       "      <td>man</td>\n",
       "      <td>London</td>\n",
       "      <td>Yes</td>\n",
       "      <td>0.938684</td>\n",
       "      <td>0.0</td>\n",
       "      <td>1.0</td>\n",
       "    </tr>\n",
       "  </tbody>\n",
       "</table>\n",
       "</div>"
      ],
      "text/plain": [
       "  Gender       City Attended     Value  Attended(yes)  Attended(no\n",
       "0   girl   New York      Yes  0.991472            0.0          1.0\n",
       "1    boy     London       No  0.980504            1.0          0.0\n",
       "2    boy  Amsterdam      Yes  0.969145            0.0          1.0\n",
       "3    boy  Amsterdam       No  0.968502            1.0          0.0\n",
       "4    man     London      Yes  0.938684            0.0          1.0"
      ]
     },
     "execution_count": 149,
     "metadata": {},
     "output_type": "execute_result"
    }
   ],
   "source": [
    "df.head()"
   ]
  },
  {
   "cell_type": "code",
   "execution_count": 150,
   "id": "58ed9fd6",
   "metadata": {},
   "outputs": [],
   "source": [
    "df.drop('Attended', axis=1, inplace=True)"
   ]
  },
  {
   "cell_type": "code",
   "execution_count": 151,
   "id": "823cca07",
   "metadata": {},
   "outputs": [
    {
     "data": {
      "text/html": [
       "<div>\n",
       "<style scoped>\n",
       "    .dataframe tbody tr th:only-of-type {\n",
       "        vertical-align: middle;\n",
       "    }\n",
       "\n",
       "    .dataframe tbody tr th {\n",
       "        vertical-align: top;\n",
       "    }\n",
       "\n",
       "    .dataframe thead th {\n",
       "        text-align: right;\n",
       "    }\n",
       "</style>\n",
       "<table border=\"1\" class=\"dataframe\">\n",
       "  <thead>\n",
       "    <tr style=\"text-align: right;\">\n",
       "      <th></th>\n",
       "      <th>Gender</th>\n",
       "      <th>City</th>\n",
       "      <th>Value</th>\n",
       "      <th>Attended(yes)</th>\n",
       "      <th>Attended(no</th>\n",
       "    </tr>\n",
       "  </thead>\n",
       "  <tbody>\n",
       "    <tr>\n",
       "      <th>0</th>\n",
       "      <td>girl</td>\n",
       "      <td>New York</td>\n",
       "      <td>0.991472</td>\n",
       "      <td>0.0</td>\n",
       "      <td>1.0</td>\n",
       "    </tr>\n",
       "    <tr>\n",
       "      <th>1</th>\n",
       "      <td>boy</td>\n",
       "      <td>London</td>\n",
       "      <td>0.980504</td>\n",
       "      <td>1.0</td>\n",
       "      <td>0.0</td>\n",
       "    </tr>\n",
       "    <tr>\n",
       "      <th>2</th>\n",
       "      <td>boy</td>\n",
       "      <td>Amsterdam</td>\n",
       "      <td>0.969145</td>\n",
       "      <td>0.0</td>\n",
       "      <td>1.0</td>\n",
       "    </tr>\n",
       "    <tr>\n",
       "      <th>3</th>\n",
       "      <td>boy</td>\n",
       "      <td>Amsterdam</td>\n",
       "      <td>0.968502</td>\n",
       "      <td>1.0</td>\n",
       "      <td>0.0</td>\n",
       "    </tr>\n",
       "    <tr>\n",
       "      <th>4</th>\n",
       "      <td>man</td>\n",
       "      <td>London</td>\n",
       "      <td>0.938684</td>\n",
       "      <td>0.0</td>\n",
       "      <td>1.0</td>\n",
       "    </tr>\n",
       "  </tbody>\n",
       "</table>\n",
       "</div>"
      ],
      "text/plain": [
       "  Gender       City     Value  Attended(yes)  Attended(no\n",
       "0   girl   New York  0.991472            0.0          1.0\n",
       "1    boy     London  0.980504            1.0          0.0\n",
       "2    boy  Amsterdam  0.969145            0.0          1.0\n",
       "3    boy  Amsterdam  0.968502            1.0          0.0\n",
       "4    man     London  0.938684            0.0          1.0"
      ]
     },
     "execution_count": 151,
     "metadata": {},
     "output_type": "execute_result"
    }
   ],
   "source": [
    "df.head()"
   ]
  }
 ],
 "metadata": {
  "kernelspec": {
   "display_name": "Python 3 (ipykernel)",
   "language": "python",
   "name": "python3"
  },
  "language_info": {
   "codemirror_mode": {
    "name": "ipython",
    "version": 3
   },
   "file_extension": ".py",
   "mimetype": "text/x-python",
   "name": "python",
   "nbconvert_exporter": "python",
   "pygments_lexer": "ipython3",
   "version": "3.10.9"
  }
 },
 "nbformat": 4,
 "nbformat_minor": 5
}
