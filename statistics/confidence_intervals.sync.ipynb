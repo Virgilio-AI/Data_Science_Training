{
 "cells": [
  {
   "cell_type": "code",
   "execution_count": 26,
   "id": "43a7a1a4",
   "metadata": {},
   "outputs": [
    {
     "data": {
      "text/html": [
       "<div>\n",
       "<style scoped>\n",
       "    .dataframe tbody tr th:only-of-type {\n",
       "        vertical-align: middle;\n",
       "    }\n",
       "\n",
       "    .dataframe tbody tr th {\n",
       "        vertical-align: top;\n",
       "    }\n",
       "\n",
       "    .dataframe thead th {\n",
       "        text-align: right;\n",
       "    }\n",
       "</style>\n",
       "<table border=\"1\" class=\"dataframe\">\n",
       "  <thead>\n",
       "    <tr style=\"text-align: right;\">\n",
       "      <th></th>\n",
       "      <th>scores</th>\n",
       "    </tr>\n",
       "  </thead>\n",
       "  <tbody>\n",
       "    <tr>\n",
       "      <th>0</th>\n",
       "      <td>25.104179</td>\n",
       "    </tr>\n",
       "    <tr>\n",
       "      <th>1</th>\n",
       "      <td>60.908747</td>\n",
       "    </tr>\n",
       "    <tr>\n",
       "      <th>2</th>\n",
       "      <td>23.222238</td>\n",
       "    </tr>\n",
       "    <tr>\n",
       "      <th>3</th>\n",
       "      <td>51.553491</td>\n",
       "    </tr>\n",
       "    <tr>\n",
       "      <th>4</th>\n",
       "      <td>22.629690</td>\n",
       "    </tr>\n",
       "  </tbody>\n",
       "</table>\n",
       "</div>"
      ],
      "text/plain": [
       "      scores\n",
       "0  25.104179\n",
       "1  60.908747\n",
       "2  23.222238\n",
       "3  51.553491\n",
       "4  22.629690"
      ]
     },
     "execution_count": 26,
     "metadata": {},
     "output_type": "execute_result"
    }
   ],
   "source": [
    "from numpy.random import randint\n",
    "import numpy as np # for importing numpy\n",
    "import pandas as pd # for importing pandas\n",
    "import matplotlib.pyplot as plt # for importing matplotlib\n",
    "import seaborn as sns # seaborn is used to plot\n",
    "import random\n",
    "import os\n",
    "from scipy import stats\n",
    "\n",
    "\n",
    "# Load the data from a csv file\n",
    "data = pd.read_csv('data/klout-scores.csv', header=None, names=['scores'])\n",
    "data.head()"
   ]
  },
  {
   "cell_type": "code",
   "execution_count": 27,
   "id": "9d3eb750",
   "metadata": {},
   "outputs": [
    {
     "data": {
      "image/png": "[encoded data removed]",
      "text/plain": [
       "<Figure size 640x480 with 1 Axes>"
      ]
     },
     "metadata": {},
     "output_type": "display_data"
    }
   ],
   "source": [
    "# plot the sample and note the bimodal distribution shape\n",
    "# the first peak are social media consumers, second peak influencers\n",
    "p = sns.kdeplot(data.scores)\n",
    "\n",
    "# sample size\n",
    "n = data.scores.count()\n",
    "\n",
    "# The confidence coeficient\n",
    "confidence_coef = 0.95\n",
    "\n",
    "# the alpha level\n",
    "alpha = 1 - confidence_coef"
   ]
  },
  {
   "cell_type": "code",
   "execution_count": 28,
   "id": "32f9e6b4",
   "metadata": {},
   "outputs": [
    {
     "data": {
      "text/plain": [
       "37.71905483253817"
      ]
     },
     "execution_count": 28,
     "metadata": {},
     "output_type": "execute_result"
    }
   ],
   "source": [
    "# First we need our sample mean, this is called our point estimate\n",
    "klout_xbar = data.scores.mean()\n",
    "klout_xbar"
   ]
  },
  {
   "cell_type": "code",
   "execution_count": 29,
   "id": "b80ba86f",
   "metadata": {},
   "outputs": [
    {
     "data": {
      "text/plain": [
       "16.044314979048984"
      ]
     },
     "execution_count": 29,
     "metadata": {},
     "output_type": "execute_result"
    }
   ],
   "source": [
    "# we also need the standard error of the sample\n",
    "# since our sample size is large (> 30) we can use the sample standard deviation as an approximation of sigma\n",
    "klout_s = data.scores.std()\n",
    "klout_s"
   ]
  },
  {
   "cell_type": "code",
   "execution_count": 30,
   "id": "0158d536",
   "metadata": {},
   "outputs": [
    {
     "data": {
      "text/plain": [
       "1.959963984540054"
      ]
     },
     "execution_count": 30,
     "metadata": {},
     "output_type": "execute_result"
    }
   ],
   "source": [
    "# Then we need to find the zscore to calculate the lower and upper bounds of our confidence interval\n",
    "# this is called  a critical value\n",
    "critical_value = stats.norm.ppf(alpha/2) * -1\n",
    "critical_value"
   ]
  },
  {
   "cell_type": "code",
   "execution_count": 31,
   "id": "42222df6",
   "metadata": {},
   "outputs": [
    {
     "name": "stderr",
     "output_type": "stream",
     "text": [
      "/tmp/ipykernel_1664731/3269949689.py:3: DeprecationWarning: Use of keyword argument 'alpha' for method 'interval' is deprecated and wil be removed in SciPy 1.11.0. Use first positional argument or keyword argument 'confidence' instead.\n",
      "  zscore_interval = stats.norm.interval(alpha=confidence_coef)\n"
     ]
    },
    {
     "data": {
      "text/plain": [
       "(-1.959963984540054, 1.959963984540054)"
      ]
     },
     "execution_count": 31,
     "metadata": {},
     "output_type": "execute_result"
    }
   ],
   "source": [
    "# an easier way to get critical value is to use scipy.stats interval function. The alpha \n",
    "# .95 being a little misleading since it is not our alpha but our confidence coefficient\n",
    "zscore_interval = stats.norm.interval(alpha=confidence_coef)\n",
    "zscore_interval"
   ]
  },
  {
   "cell_type": "code",
   "execution_count": 32,
   "id": "29ece4ff",
   "metadata": {},
   "outputs": [
    {
     "data": {
      "text/plain": [
       "0.4956105448465624"
      ]
     },
     "execution_count": 32,
     "metadata": {},
     "output_type": "execute_result"
    }
   ],
   "source": [
    "# we need the standard error to calculate the bounds\n",
    "klout_se = klout_s / np.sqrt(n)\n",
    "klout_se"
   ]
  },
  {
   "cell_type": "code",
   "execution_count": 33,
   "id": "3471d0d6",
   "metadata": {},
   "outputs": [
    {
     "data": {
      "text/plain": [
       "(36.747676014280636, 38.690433650795704)"
      ]
     },
     "execution_count": 33,
     "metadata": {},
     "output_type": "execute_result"
    }
   ],
   "source": [
    "# calculate the lower and upper bounds kloud score \n",
    "# for the confidence interval\n",
    "\n",
    "klout_ci_mean_lower = klout_xbar - critical_value * klout_se\n",
    "klout_ci_mean_upper = klout_xbar + critical_value * klout_se\n",
    "klout_ci_mean_lower, klout_ci_mean_upper\n",
    "\n"
   ]
  }
 ],
 "metadata": {
  "kernelspec": {
   "display_name": "Python 3 (ipykernel)",
   "language": "python",
   "name": "python3"
  },
  "language_info": {
   "codemirror_mode": {
    "name": "ipython",
    "version": 3
   },
   "file_extension": ".py",
   "mimetype": "text/x-python",
   "name": "python",
   "nbconvert_exporter": "python",
   "pygments_lexer": "ipython3",
   "version": "3.10.9"
  }
 },
 "nbformat": 4,
 "nbformat_minor": 5
}
