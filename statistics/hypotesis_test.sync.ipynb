{
 "cells": [
  {
   "cell_type": "code",
   "execution_count": 1,
   "id": "f2a5833d",
   "metadata": {},
   "outputs": [],
   "source": [
    "from numpy.random import randint\n",
    "import numpy as np # for importing numpy\n",
    "import pandas as pd # for importing pandas\n",
    "import seaborn as sns # seaborn is used to plot\n",
    "from matplotlib.animation import ArtistAnimation\n",
    "import random\n",
    "import os\n",
    "from scipy import stats\n",
    "import math\n",
    "import matplotlib.pyplot as plt\n",
    "import statsmodels.api as sm"
   ]
  },
  {
   "cell_type": "code",
   "execution_count": 2,
   "id": "fd085438",
   "metadata": {},
   "outputs": [],
   "source": [
    "# Load the data from a csv file.\n",
    "data = pd.read_csv('data/wildlife.csv')"
   ]
  },
  {
   "cell_type": "code",
   "execution_count": 3,
   "id": "e31af9e3",
   "metadata": {},
   "outputs": [
    {
     "data": {
      "text/html": [
       "<div>\n",
       "<style scoped>\n",
       "    .dataframe tbody tr th:only-of-type {\n",
       "        vertical-align: middle;\n",
       "    }\n",
       "\n",
       "    .dataframe tbody tr th {\n",
       "        vertical-align: top;\n",
       "    }\n",
       "\n",
       "    .dataframe thead th {\n",
       "        text-align: right;\n",
       "    }\n",
       "</style>\n",
       "<table border=\"1\" class=\"dataframe\">\n",
       "  <thead>\n",
       "    <tr style=\"text-align: right;\">\n",
       "      <th></th>\n",
       "      <th>INCIDENT_DATE</th>\n",
       "      <th>STATE</th>\n",
       "      <th>AIRPORT_ID</th>\n",
       "      <th>AIRPORT</th>\n",
       "      <th>OPID</th>\n",
       "      <th>OPERATOR</th>\n",
       "      <th>ATYPE</th>\n",
       "      <th>TYPE_ENG</th>\n",
       "      <th>SPECIES_ID</th>\n",
       "      <th>SPECIES</th>\n",
       "      <th>...</th>\n",
       "      <th>REPORTED_NAME</th>\n",
       "      <th>REPORTED_TITLE</th>\n",
       "      <th>REPORTED_DATE</th>\n",
       "      <th>SOURCE</th>\n",
       "      <th>PERSON</th>\n",
       "      <th>NR_INJURIES</th>\n",
       "      <th>NR_FATALITIES</th>\n",
       "      <th>LUPDATE</th>\n",
       "      <th>TRANSFER</th>\n",
       "      <th>INDICATED_DAMAGE</th>\n",
       "    </tr>\n",
       "  </thead>\n",
       "  <tbody>\n",
       "    <tr>\n",
       "      <th>0</th>\n",
       "      <td>12/31/2013 0:00</td>\n",
       "      <td>CA</td>\n",
       "      <td>KHWD</td>\n",
       "      <td>HAYWARD EXECUTIVE ARPT</td>\n",
       "      <td>UNK</td>\n",
       "      <td>UNKNOWN</td>\n",
       "      <td>UNKNOWN</td>\n",
       "      <td>NaN</td>\n",
       "      <td>YI005</td>\n",
       "      <td>Barn swallow</td>\n",
       "      <td>...</td>\n",
       "      <td>Deleted</td>\n",
       "      <td>Deleted</td>\n",
       "      <td>NaN</td>\n",
       "      <td>FAA Form 5200-7-E</td>\n",
       "      <td>Carcass Found</td>\n",
       "      <td>NaN</td>\n",
       "      <td>NaN</td>\n",
       "      <td>4/24/2014 0:00</td>\n",
       "      <td>False</td>\n",
       "      <td>False</td>\n",
       "    </tr>\n",
       "    <tr>\n",
       "      <th>1</th>\n",
       "      <td>12/31/2013 0:00</td>\n",
       "      <td>CA</td>\n",
       "      <td>KSMF</td>\n",
       "      <td>SACRAMENTO INTL</td>\n",
       "      <td>PCM</td>\n",
       "      <td>WESTAIR</td>\n",
       "      <td>C-208</td>\n",
       "      <td>C</td>\n",
       "      <td>J2104</td>\n",
       "      <td>Northern pintail</td>\n",
       "      <td>...</td>\n",
       "      <td>Deleted</td>\n",
       "      <td>Deleted</td>\n",
       "      <td>NaN</td>\n",
       "      <td>Multiple</td>\n",
       "      <td>Airport Operations</td>\n",
       "      <td>NaN</td>\n",
       "      <td>NaN</td>\n",
       "      <td>4/24/2014 0:00</td>\n",
       "      <td>False</td>\n",
       "      <td>True</td>\n",
       "    </tr>\n",
       "    <tr>\n",
       "      <th>2</th>\n",
       "      <td>12/31/2013 0:00</td>\n",
       "      <td>CA</td>\n",
       "      <td>KSNA</td>\n",
       "      <td>JOHN WAYNE-ORANGE COUNTY ARPT</td>\n",
       "      <td>BUS</td>\n",
       "      <td>BUSINESS</td>\n",
       "      <td>C-650</td>\n",
       "      <td>D</td>\n",
       "      <td>H4105</td>\n",
       "      <td>Double-crested cormorant</td>\n",
       "      <td>...</td>\n",
       "      <td>Deleted</td>\n",
       "      <td>Deleted</td>\n",
       "      <td>NaN</td>\n",
       "      <td>FAA Form 5200-7-E</td>\n",
       "      <td>Pilot</td>\n",
       "      <td>NaN</td>\n",
       "      <td>NaN</td>\n",
       "      <td>4/24/2014 0:00</td>\n",
       "      <td>False</td>\n",
       "      <td>True</td>\n",
       "    </tr>\n",
       "    <tr>\n",
       "      <th>3</th>\n",
       "      <td>12/30/2013 0:00</td>\n",
       "      <td>CA</td>\n",
       "      <td>KSMF</td>\n",
       "      <td>SACRAMENTO INTL</td>\n",
       "      <td>UNK</td>\n",
       "      <td>UNKNOWN</td>\n",
       "      <td>UNKNOWN</td>\n",
       "      <td>NaN</td>\n",
       "      <td>1A1</td>\n",
       "      <td>Virginia opossum</td>\n",
       "      <td>...</td>\n",
       "      <td>Deleted</td>\n",
       "      <td>Deleted</td>\n",
       "      <td>NaN</td>\n",
       "      <td>FAA Form 5200-7-E</td>\n",
       "      <td>Carcass Found</td>\n",
       "      <td>NaN</td>\n",
       "      <td>NaN</td>\n",
       "      <td>4/24/2014 0:00</td>\n",
       "      <td>False</td>\n",
       "      <td>False</td>\n",
       "    </tr>\n",
       "    <tr>\n",
       "      <th>4</th>\n",
       "      <td>12/30/2013 0:00</td>\n",
       "      <td>CA</td>\n",
       "      <td>KMER</td>\n",
       "      <td>CASTLE ARPT</td>\n",
       "      <td>BUS</td>\n",
       "      <td>BUSINESS</td>\n",
       "      <td>PA-44 SEMINOLE</td>\n",
       "      <td>A</td>\n",
       "      <td>K33</td>\n",
       "      <td>Hawks</td>\n",
       "      <td>...</td>\n",
       "      <td>Deleted</td>\n",
       "      <td>Deleted</td>\n",
       "      <td>NaN</td>\n",
       "      <td>Multiple</td>\n",
       "      <td>Tower</td>\n",
       "      <td>NaN</td>\n",
       "      <td>NaN</td>\n",
       "      <td>4/24/2014 0:00</td>\n",
       "      <td>False</td>\n",
       "      <td>True</td>\n",
       "    </tr>\n",
       "  </tbody>\n",
       "</table>\n",
       "<p>5 rows × 93 columns</p>\n",
       "</div>"
      ],
      "text/plain": [
       "     INCIDENT_DATE STATE AIRPORT_ID                        AIRPORT OPID  \\\n",
       "0  12/31/2013 0:00    CA       KHWD         HAYWARD EXECUTIVE ARPT  UNK   \n",
       "1  12/31/2013 0:00    CA       KSMF                SACRAMENTO INTL  PCM   \n",
       "2  12/31/2013 0:00    CA       KSNA  JOHN WAYNE-ORANGE COUNTY ARPT  BUS   \n",
       "3  12/30/2013 0:00    CA       KSMF                SACRAMENTO INTL  UNK   \n",
       "4  12/30/2013 0:00    CA       KMER                    CASTLE ARPT  BUS   \n",
       "\n",
       "   OPERATOR           ATYPE TYPE_ENG SPECIES_ID                   SPECIES  \\\n",
       "0   UNKNOWN         UNKNOWN      NaN      YI005              Barn swallow   \n",
       "1   WESTAIR           C-208        C      J2104          Northern pintail   \n",
       "2  BUSINESS           C-650        D      H4105  Double-crested cormorant   \n",
       "3   UNKNOWN         UNKNOWN      NaN        1A1          Virginia opossum   \n",
       "4  BUSINESS  PA-44 SEMINOLE        A        K33                     Hawks   \n",
       "\n",
       "   ... REPORTED_NAME  REPORTED_TITLE REPORTED_DATE             SOURCE  \\\n",
       "0  ...       Deleted         Deleted           NaN  FAA Form 5200-7-E   \n",
       "1  ...       Deleted         Deleted           NaN           Multiple   \n",
       "2  ...       Deleted         Deleted           NaN  FAA Form 5200-7-E   \n",
       "3  ...       Deleted         Deleted           NaN  FAA Form 5200-7-E   \n",
       "4  ...       Deleted         Deleted           NaN           Multiple   \n",
       "\n",
       "               PERSON NR_INJURIES NR_FATALITIES         LUPDATE  TRANSFER  \\\n",
       "0       Carcass Found         NaN           NaN  4/24/2014 0:00     False   \n",
       "1  Airport Operations         NaN           NaN  4/24/2014 0:00     False   \n",
       "2               Pilot         NaN           NaN  4/24/2014 0:00     False   \n",
       "3       Carcass Found         NaN           NaN  4/24/2014 0:00     False   \n",
       "4               Tower         NaN           NaN  4/24/2014 0:00     False   \n",
       "\n",
       "   INDICATED_DAMAGE  \n",
       "0             False  \n",
       "1              True  \n",
       "2              True  \n",
       "3             False  \n",
       "4              True  \n",
       "\n",
       "[5 rows x 93 columns]"
      ]
     },
     "execution_count": 3,
     "metadata": {},
     "output_type": "execute_result"
    }
   ],
   "source": [
    "data.head()"
   ]
  },
  {
   "cell_type": "code",
   "execution_count": 4,
   "id": "7aff9f65",
   "metadata": {},
   "outputs": [
    {
     "data": {
      "text/html": [
       "<div>\n",
       "<style scoped>\n",
       "    .dataframe tbody tr th:only-of-type {\n",
       "        vertical-align: middle;\n",
       "    }\n",
       "\n",
       "    .dataframe tbody tr th {\n",
       "        vertical-align: top;\n",
       "    }\n",
       "\n",
       "    .dataframe thead th {\n",
       "        text-align: right;\n",
       "    }\n",
       "</style>\n",
       "<table border=\"1\" class=\"dataframe\">\n",
       "  <thead>\n",
       "    <tr style=\"text-align: right;\">\n",
       "      <th></th>\n",
       "      <th>COST_REPAIRS</th>\n",
       "      <th>AMO</th>\n",
       "      <th>EMA</th>\n",
       "      <th>AC_MASS</th>\n",
       "      <th>NUM_ENGS</th>\n",
       "      <th>ENG_1_POS</th>\n",
       "      <th>ENG_2_POS</th>\n",
       "      <th>ENG_4_POS</th>\n",
       "      <th>INCIDENT_MONTH</th>\n",
       "      <th>INCIDENT_YEAR</th>\n",
       "      <th>...</th>\n",
       "      <th>ENROUTE</th>\n",
       "      <th>HEIGHT</th>\n",
       "      <th>SPEED</th>\n",
       "      <th>DISTANCE</th>\n",
       "      <th>AOS</th>\n",
       "      <th>COST_OTHER</th>\n",
       "      <th>COST_REPAIRS_INFL_ADJ</th>\n",
       "      <th>COST_OTHER_INFL_ADJ</th>\n",
       "      <th>NR_INJURIES</th>\n",
       "      <th>NR_FATALITIES</th>\n",
       "    </tr>\n",
       "  </thead>\n",
       "  <tbody>\n",
       "    <tr>\n",
       "      <th>count</th>\n",
       "      <td>36.000000</td>\n",
       "      <td>1284.000000</td>\n",
       "      <td>1279.000000</td>\n",
       "      <td>1307.000000</td>\n",
       "      <td>1302.000000</td>\n",
       "      <td>1293.000000</td>\n",
       "      <td>1193.000000</td>\n",
       "      <td>18.000000</td>\n",
       "      <td>1823.000000</td>\n",
       "      <td>1823.000000</td>\n",
       "      <td>...</td>\n",
       "      <td>0.0</td>\n",
       "      <td>1147.000000</td>\n",
       "      <td>722.000000</td>\n",
       "      <td>1361.000000</td>\n",
       "      <td>90.000000</td>\n",
       "      <td>49.000000</td>\n",
       "      <td>36.000000</td>\n",
       "      <td>49.000000</td>\n",
       "      <td>0.0</td>\n",
       "      <td>0.0</td>\n",
       "    </tr>\n",
       "    <tr>\n",
       "      <th>mean</th>\n",
       "      <td>58475.138889</td>\n",
       "      <td>26.998442</td>\n",
       "      <td>17.020328</td>\n",
       "      <td>3.541699</td>\n",
       "      <td>1.973118</td>\n",
       "      <td>2.377417</td>\n",
       "      <td>2.115675</td>\n",
       "      <td>2.000000</td>\n",
       "      <td>6.876029</td>\n",
       "      <td>2012.487109</td>\n",
       "      <td>...</td>\n",
       "      <td>NaN</td>\n",
       "      <td>901.883173</td>\n",
       "      <td>144.448753</td>\n",
       "      <td>1.258339</td>\n",
       "      <td>88.777778</td>\n",
       "      <td>10964.061224</td>\n",
       "      <td>60537.111111</td>\n",
       "      <td>11374.408163</td>\n",
       "      <td>NaN</td>\n",
       "      <td>NaN</td>\n",
       "    </tr>\n",
       "    <tr>\n",
       "      <th>std</th>\n",
       "      <td>131350.509659</td>\n",
       "      <td>20.711054</td>\n",
       "      <td>9.563865</td>\n",
       "      <td>0.941829</td>\n",
       "      <td>0.394095</td>\n",
       "      <td>2.068453</td>\n",
       "      <td>1.760405</td>\n",
       "      <td>1.455214</td>\n",
       "      <td>3.220746</td>\n",
       "      <td>0.499971</td>\n",
       "      <td>...</td>\n",
       "      <td>NaN</td>\n",
       "      <td>1965.058814</td>\n",
       "      <td>46.320697</td>\n",
       "      <td>4.472511</td>\n",
       "      <td>358.052026</td>\n",
       "      <td>34291.980650</td>\n",
       "      <td>135562.661873</td>\n",
       "      <td>35436.891612</td>\n",
       "      <td>NaN</td>\n",
       "      <td>NaN</td>\n",
       "    </tr>\n",
       "    <tr>\n",
       "      <th>min</th>\n",
       "      <td>100.000000</td>\n",
       "      <td>0.000000</td>\n",
       "      <td>1.000000</td>\n",
       "      <td>1.000000</td>\n",
       "      <td>1.000000</td>\n",
       "      <td>1.000000</td>\n",
       "      <td>1.000000</td>\n",
       "      <td>1.000000</td>\n",
       "      <td>1.000000</td>\n",
       "      <td>2012.000000</td>\n",
       "      <td>...</td>\n",
       "      <td>NaN</td>\n",
       "      <td>0.000000</td>\n",
       "      <td>0.000000</td>\n",
       "      <td>0.000000</td>\n",
       "      <td>0.000000</td>\n",
       "      <td>50.000000</td>\n",
       "      <td>103.000000</td>\n",
       "      <td>53.000000</td>\n",
       "      <td>NaN</td>\n",
       "      <td>NaN</td>\n",
       "    </tr>\n",
       "    <tr>\n",
       "      <th>25%</th>\n",
       "      <td>1500.000000</td>\n",
       "      <td>10.000000</td>\n",
       "      <td>10.000000</td>\n",
       "      <td>3.000000</td>\n",
       "      <td>2.000000</td>\n",
       "      <td>1.000000</td>\n",
       "      <td>1.000000</td>\n",
       "      <td>1.000000</td>\n",
       "      <td>4.000000</td>\n",
       "      <td>2012.000000</td>\n",
       "      <td>...</td>\n",
       "      <td>NaN</td>\n",
       "      <td>0.000000</td>\n",
       "      <td>120.000000</td>\n",
       "      <td>0.000000</td>\n",
       "      <td>1.000000</td>\n",
       "      <td>200.000000</td>\n",
       "      <td>1570.750000</td>\n",
       "      <td>211.000000</td>\n",
       "      <td>NaN</td>\n",
       "      <td>NaN</td>\n",
       "    </tr>\n",
       "    <tr>\n",
       "      <th>50%</th>\n",
       "      <td>12500.000000</td>\n",
       "      <td>24.000000</td>\n",
       "      <td>10.000000</td>\n",
       "      <td>4.000000</td>\n",
       "      <td>2.000000</td>\n",
       "      <td>1.000000</td>\n",
       "      <td>1.000000</td>\n",
       "      <td>1.000000</td>\n",
       "      <td>7.000000</td>\n",
       "      <td>2012.000000</td>\n",
       "      <td>...</td>\n",
       "      <td>NaN</td>\n",
       "      <td>50.000000</td>\n",
       "      <td>140.000000</td>\n",
       "      <td>0.000000</td>\n",
       "      <td>5.500000</td>\n",
       "      <td>400.000000</td>\n",
       "      <td>12971.000000</td>\n",
       "      <td>411.000000</td>\n",
       "      <td>NaN</td>\n",
       "      <td>NaN</td>\n",
       "    </tr>\n",
       "    <tr>\n",
       "      <th>75%</th>\n",
       "      <td>40625.000000</td>\n",
       "      <td>42.000000</td>\n",
       "      <td>23.000000</td>\n",
       "      <td>4.000000</td>\n",
       "      <td>2.000000</td>\n",
       "      <td>5.000000</td>\n",
       "      <td>4.000000</td>\n",
       "      <td>4.000000</td>\n",
       "      <td>10.000000</td>\n",
       "      <td>2013.000000</td>\n",
       "      <td>...</td>\n",
       "      <td>NaN</td>\n",
       "      <td>800.000000</td>\n",
       "      <td>163.000000</td>\n",
       "      <td>0.000000</td>\n",
       "      <td>24.000000</td>\n",
       "      <td>1000.000000</td>\n",
       "      <td>42824.250000</td>\n",
       "      <td>1054.000000</td>\n",
       "      <td>NaN</td>\n",
       "      <td>NaN</td>\n",
       "    </tr>\n",
       "    <tr>\n",
       "      <th>max</th>\n",
       "      <td>680000.000000</td>\n",
       "      <td>97.000000</td>\n",
       "      <td>46.000000</td>\n",
       "      <td>5.000000</td>\n",
       "      <td>4.000000</td>\n",
       "      <td>7.000000</td>\n",
       "      <td>6.000000</td>\n",
       "      <td>4.000000</td>\n",
       "      <td>12.000000</td>\n",
       "      <td>2013.000000</td>\n",
       "      <td>...</td>\n",
       "      <td>NaN</td>\n",
       "      <td>15000.000000</td>\n",
       "      <td>290.000000</td>\n",
       "      <td>40.000000</td>\n",
       "      <td>3000.000000</td>\n",
       "      <td>200000.000000</td>\n",
       "      <td>698163.000000</td>\n",
       "      <td>205342.000000</td>\n",
       "      <td>NaN</td>\n",
       "      <td>NaN</td>\n",
       "    </tr>\n",
       "  </tbody>\n",
       "</table>\n",
       "<p>8 rows × 21 columns</p>\n",
       "</div>"
      ],
      "text/plain": [
       "        COST_REPAIRS          AMO          EMA      AC_MASS     NUM_ENGS  \\\n",
       "count      36.000000  1284.000000  1279.000000  1307.000000  1302.000000   \n",
       "mean    58475.138889    26.998442    17.020328     3.541699     1.973118   \n",
       "std    131350.509659    20.711054     9.563865     0.941829     0.394095   \n",
       "min       100.000000     0.000000     1.000000     1.000000     1.000000   \n",
       "25%      1500.000000    10.000000    10.000000     3.000000     2.000000   \n",
       "50%     12500.000000    24.000000    10.000000     4.000000     2.000000   \n",
       "75%     40625.000000    42.000000    23.000000     4.000000     2.000000   \n",
       "max    680000.000000    97.000000    46.000000     5.000000     4.000000   \n",
       "\n",
       "         ENG_1_POS    ENG_2_POS  ENG_4_POS  INCIDENT_MONTH  INCIDENT_YEAR  \\\n",
       "count  1293.000000  1193.000000  18.000000     1823.000000    1823.000000   \n",
       "mean      2.377417     2.115675   2.000000        6.876029    2012.487109   \n",
       "std       2.068453     1.760405   1.455214        3.220746       0.499971   \n",
       "min       1.000000     1.000000   1.000000        1.000000    2012.000000   \n",
       "25%       1.000000     1.000000   1.000000        4.000000    2012.000000   \n",
       "50%       1.000000     1.000000   1.000000        7.000000    2012.000000   \n",
       "75%       5.000000     4.000000   4.000000       10.000000    2013.000000   \n",
       "max       7.000000     6.000000   4.000000       12.000000    2013.000000   \n",
       "\n",
       "       ...  ENROUTE        HEIGHT       SPEED     DISTANCE          AOS  \\\n",
       "count  ...      0.0   1147.000000  722.000000  1361.000000    90.000000   \n",
       "mean   ...      NaN    901.883173  144.448753     1.258339    88.777778   \n",
       "std    ...      NaN   1965.058814   46.320697     4.472511   358.052026   \n",
       "min    ...      NaN      0.000000    0.000000     0.000000     0.000000   \n",
       "25%    ...      NaN      0.000000  120.000000     0.000000     1.000000   \n",
       "50%    ...      NaN     50.000000  140.000000     0.000000     5.500000   \n",
       "75%    ...      NaN    800.000000  163.000000     0.000000    24.000000   \n",
       "max    ...      NaN  15000.000000  290.000000    40.000000  3000.000000   \n",
       "\n",
       "          COST_OTHER  COST_REPAIRS_INFL_ADJ  COST_OTHER_INFL_ADJ  NR_INJURIES  \\\n",
       "count      49.000000              36.000000            49.000000          0.0   \n",
       "mean    10964.061224           60537.111111         11374.408163          NaN   \n",
       "std     34291.980650          135562.661873         35436.891612          NaN   \n",
       "min        50.000000             103.000000            53.000000          NaN   \n",
       "25%       200.000000            1570.750000           211.000000          NaN   \n",
       "50%       400.000000           12971.000000           411.000000          NaN   \n",
       "75%      1000.000000           42824.250000          1054.000000          NaN   \n",
       "max    200000.000000          698163.000000        205342.000000          NaN   \n",
       "\n",
       "       NR_FATALITIES  \n",
       "count            0.0  \n",
       "mean             NaN  \n",
       "std              NaN  \n",
       "min              NaN  \n",
       "25%              NaN  \n",
       "50%              NaN  \n",
       "75%              NaN  \n",
       "max              NaN  \n",
       "\n",
       "[8 rows x 21 columns]"
      ]
     },
     "execution_count": 4,
     "metadata": {},
     "output_type": "execute_result"
    }
   ],
   "source": [
    "data.describe()"
   ]
  },
  {
   "cell_type": "code",
   "execution_count": 5,
   "id": "d2e8093a",
   "metadata": {
    "scrolled": true
   },
   "outputs": [
    {
     "name": "stdout",
     "output_type": "stream",
     "text": [
      "<class 'pandas.core.frame.DataFrame'>\n",
      "RangeIndex: 1823 entries, 0 to 1822\n",
      "Data columns (total 93 columns):\n",
      " #   Column                 Non-Null Count  Dtype  \n",
      "---  ------                 --------------  -----  \n",
      " 0   INCIDENT_DATE          1823 non-null   object \n",
      " 1   STATE                  1823 non-null   object \n",
      " 2   AIRPORT_ID             1823 non-null   object \n",
      " 3   AIRPORT                1823 non-null   object \n",
      " 4   OPID                   1823 non-null   object \n",
      " 5   OPERATOR               1823 non-null   object \n",
      " 6   ATYPE                  1823 non-null   object \n",
      " 7   TYPE_ENG               1301 non-null   object \n",
      " 8   SPECIES_ID             1823 non-null   object \n",
      " 9   SPECIES                1817 non-null   object \n",
      " 10  DAMAGE                 1296 non-null   object \n",
      " 11  COST_REPAIRS           36 non-null     float64\n",
      " 12  AMA                    1323 non-null   object \n",
      " 13  AMO                    1284 non-null   float64\n",
      " 14  EMA                    1279 non-null   float64\n",
      " 15  EMO                    1268 non-null   object \n",
      " 16  AC_CLASS               1343 non-null   object \n",
      " 17  AC_MASS                1307 non-null   float64\n",
      " 18  NUM_ENGS               1302 non-null   float64\n",
      " 19  ENG_1_POS              1293 non-null   float64\n",
      " 20  ENG_2_POS              1193 non-null   float64\n",
      " 21  ENG_3_POS              51 non-null     object \n",
      " 22  ENG_4_POS              18 non-null     float64\n",
      " 23  REG                    1074 non-null   object \n",
      " 24  FLT                    1047 non-null   object \n",
      " 25  REMAINS_COLLECTED      1823 non-null   bool   \n",
      " 26  REMAINS_SENT           1823 non-null   bool   \n",
      " 27  INCIDENT_MONTH         1823 non-null   int64  \n",
      " 28  INCIDENT_YEAR          1823 non-null   int64  \n",
      " 29  TIME_OF_DAY            1284 non-null   object \n",
      " 30  TIME                   1283 non-null   float64\n",
      " 31  FAAREGION              1823 non-null   object \n",
      " 32  ENROUTE                0 non-null      float64\n",
      " 33  RUNWAY                 1647 non-null   object \n",
      " 34  LOCATION               1 non-null      object \n",
      " 35  HEIGHT                 1147 non-null   float64\n",
      " 36  SPEED                  722 non-null    float64\n",
      " 37  DISTANCE               1361 non-null   float64\n",
      " 38  PHASE_OF_FLT           1348 non-null   object \n",
      " 39  STR_RAD                1823 non-null   bool   \n",
      " 40  DAM_RAD                1823 non-null   bool   \n",
      " 41  STR_WINDSHLD           1823 non-null   bool   \n",
      " 42  DAM_WINDSHLD           1823 non-null   bool   \n",
      " 43  STR_NOSE               1823 non-null   bool   \n",
      " 44  DAM_NOSE               1823 non-null   bool   \n",
      " 45  STR_ENG1               1823 non-null   bool   \n",
      " 46  DAM_ENG1               1823 non-null   bool   \n",
      " 47  STR_ENG2               1823 non-null   bool   \n",
      " 48  DAM_ENG2               1823 non-null   bool   \n",
      " 49  STR_ENG3               1823 non-null   bool   \n",
      " 50  DAM_ENG3               1823 non-null   bool   \n",
      " 51  STR_ENG4               1823 non-null   bool   \n",
      " 52  DAM_ENG4               1823 non-null   bool   \n",
      " 53  INGESTED               1823 non-null   bool   \n",
      " 54  STR_PROP               1823 non-null   bool   \n",
      " 55  DAM_PROP               1823 non-null   bool   \n",
      " 56  STR_WING_ROT           1823 non-null   bool   \n",
      " 57  DAM_WING_ROT           1823 non-null   bool   \n",
      " 58  STR_FUSE               1823 non-null   bool   \n",
      " 59  DAM_FUSE               1823 non-null   bool   \n",
      " 60  STR_LG                 1823 non-null   bool   \n",
      " 61  DAM_LG                 1823 non-null   bool   \n",
      " 62  STR_TAIL               1823 non-null   bool   \n",
      " 63  DAM_TAIL               1823 non-null   bool   \n",
      " 64  STR_LGHTS              1823 non-null   bool   \n",
      " 65  DAM_LGHTS              1823 non-null   bool   \n",
      " 66  STR_OTHER              1823 non-null   bool   \n",
      " 67  DAM_OTHER              1823 non-null   bool   \n",
      " 68  OTHER_SPECIFY          311 non-null    object \n",
      " 69  EFFECT                 1104 non-null   object \n",
      " 70  EFFECT_OTHER           31 non-null     object \n",
      " 71  SKY                    1024 non-null   object \n",
      " 72  PRECIP                 1022 non-null   object \n",
      " 73  BIRDS_SEEN             669 non-null    object \n",
      " 74  BIRDS_STRUCK           1777 non-null   object \n",
      " 75  SIZE                   1587 non-null   object \n",
      " 76  WARNED                 719 non-null    object \n",
      " 77  COMMENTS               1712 non-null   object \n",
      " 78  REMARKS                1715 non-null   object \n",
      " 79  AOS                    90 non-null     float64\n",
      " 80  COST_OTHER             49 non-null     float64\n",
      " 81  COST_REPAIRS_INFL_ADJ  36 non-null     float64\n",
      " 82  COST_OTHER_INFL_ADJ    49 non-null     float64\n",
      " 83  REPORTED_NAME          1669 non-null   object \n",
      " 84  REPORTED_TITLE         1669 non-null   object \n",
      " 85  REPORTED_DATE          171 non-null    object \n",
      " 86  SOURCE                 1823 non-null   object \n",
      " 87  PERSON                 1734 non-null   object \n",
      " 88  NR_INJURIES            0 non-null      float64\n",
      " 89  NR_FATALITIES          0 non-null      float64\n",
      " 90  LUPDATE                1823 non-null   object \n",
      " 91  TRANSFER               1823 non-null   bool   \n",
      " 92  INDICATED_DAMAGE       1823 non-null   bool   \n",
      "dtypes: bool(33), float64(19), int64(2), object(39)\n",
      "memory usage: 913.4+ KB\n"
     ]
    }
   ],
   "source": [
    "data.info()"
   ]
  },
  {
   "cell_type": "code",
   "execution_count": 6,
   "id": "01b0d3bb",
   "metadata": {},
   "outputs": [],
   "source": [
    "data = data[['INCIDENT_DATE']]"
   ]
  },
  {
   "cell_type": "code",
   "execution_count": 7,
   "id": "5055ef31",
   "metadata": {},
   "outputs": [
    {
     "data": {
      "text/html": [
       "<div>\n",
       "<style scoped>\n",
       "    .dataframe tbody tr th:only-of-type {\n",
       "        vertical-align: middle;\n",
       "    }\n",
       "\n",
       "    .dataframe tbody tr th {\n",
       "        vertical-align: top;\n",
       "    }\n",
       "\n",
       "    .dataframe thead th {\n",
       "        text-align: right;\n",
       "    }\n",
       "</style>\n",
       "<table border=\"1\" class=\"dataframe\">\n",
       "  <thead>\n",
       "    <tr style=\"text-align: right;\">\n",
       "      <th></th>\n",
       "      <th>INCIDENT_DATE</th>\n",
       "    </tr>\n",
       "  </thead>\n",
       "  <tbody>\n",
       "    <tr>\n",
       "      <th>0</th>\n",
       "      <td>12/31/2013 0:00</td>\n",
       "    </tr>\n",
       "    <tr>\n",
       "      <th>1</th>\n",
       "      <td>12/31/2013 0:00</td>\n",
       "    </tr>\n",
       "    <tr>\n",
       "      <th>2</th>\n",
       "      <td>12/31/2013 0:00</td>\n",
       "    </tr>\n",
       "    <tr>\n",
       "      <th>3</th>\n",
       "      <td>12/30/2013 0:00</td>\n",
       "    </tr>\n",
       "    <tr>\n",
       "      <th>4</th>\n",
       "      <td>12/30/2013 0:00</td>\n",
       "    </tr>\n",
       "  </tbody>\n",
       "</table>\n",
       "</div>"
      ],
      "text/plain": [
       "     INCIDENT_DATE\n",
       "0  12/31/2013 0:00\n",
       "1  12/31/2013 0:00\n",
       "2  12/31/2013 0:00\n",
       "3  12/30/2013 0:00\n",
       "4  12/30/2013 0:00"
      ]
     },
     "execution_count": 7,
     "metadata": {},
     "output_type": "execute_result"
    }
   ],
   "source": [
    "data.head()"
   ]
  },
  {
   "cell_type": "code",
   "execution_count": 8,
   "id": "ee3a75cb",
   "metadata": {},
   "outputs": [],
   "source": [
    "data['INCIDENT_DATE'] = pd.to_datetime(data['INCIDENT_DATE'])"
   ]
  },
  {
   "cell_type": "code",
   "execution_count": 9,
   "id": "a74c8327",
   "metadata": {},
   "outputs": [
    {
     "name": "stdout",
     "output_type": "stream",
     "text": [
      "<class 'pandas.core.frame.DataFrame'>\n",
      "RangeIndex: 1823 entries, 0 to 1822\n",
      "Data columns (total 1 columns):\n",
      " #   Column         Non-Null Count  Dtype         \n",
      "---  ------         --------------  -----         \n",
      " 0   INCIDENT_DATE  1823 non-null   datetime64[ns]\n",
      "dtypes: datetime64[ns](1)\n",
      "memory usage: 14.4 KB\n"
     ]
    }
   ],
   "source": [
    "data.info()"
   ]
  },
  {
   "cell_type": "code",
   "execution_count": 10,
   "id": "5128b840",
   "metadata": {},
   "outputs": [],
   "source": [
    "data = data.groupby('INCIDENT_DATE')['INCIDENT_DATE'].agg(['count'])"
   ]
  },
  {
   "cell_type": "code",
   "execution_count": 11,
   "id": "f8426017",
   "metadata": {},
   "outputs": [
    {
     "data": {
      "text/html": [
       "<div>\n",
       "<style scoped>\n",
       "    .dataframe tbody tr th:only-of-type {\n",
       "        vertical-align: middle;\n",
       "    }\n",
       "\n",
       "    .dataframe tbody tr th {\n",
       "        vertical-align: top;\n",
       "    }\n",
       "\n",
       "    .dataframe thead th {\n",
       "        text-align: right;\n",
       "    }\n",
       "</style>\n",
       "<table border=\"1\" class=\"dataframe\">\n",
       "  <thead>\n",
       "    <tr style=\"text-align: right;\">\n",
       "      <th></th>\n",
       "      <th>count</th>\n",
       "    </tr>\n",
       "    <tr>\n",
       "      <th>INCIDENT_DATE</th>\n",
       "      <th></th>\n",
       "    </tr>\n",
       "  </thead>\n",
       "  <tbody>\n",
       "    <tr>\n",
       "      <th>2012-01-02</th>\n",
       "      <td>1</td>\n",
       "    </tr>\n",
       "    <tr>\n",
       "      <th>2012-01-04</th>\n",
       "      <td>2</td>\n",
       "    </tr>\n",
       "    <tr>\n",
       "      <th>2012-01-05</th>\n",
       "      <td>5</td>\n",
       "    </tr>\n",
       "    <tr>\n",
       "      <th>2012-01-06</th>\n",
       "      <td>3</td>\n",
       "    </tr>\n",
       "    <tr>\n",
       "      <th>2012-01-07</th>\n",
       "      <td>2</td>\n",
       "    </tr>\n",
       "  </tbody>\n",
       "</table>\n",
       "</div>"
      ],
      "text/plain": [
       "               count\n",
       "INCIDENT_DATE       \n",
       "2012-01-02         1\n",
       "2012-01-04         2\n",
       "2012-01-05         5\n",
       "2012-01-06         3\n",
       "2012-01-07         2"
      ]
     },
     "execution_count": 11,
     "metadata": {},
     "output_type": "execute_result"
    }
   ],
   "source": [
    "data.head()"
   ]
  },
  {
   "cell_type": "code",
   "execution_count": 12,
   "id": "a558a2e4",
   "metadata": {},
   "outputs": [],
   "source": [
    "# rename the count column to incidents\n",
    "data.rename(columns={'count': 'incidents'}, inplace=True)"
   ]
  },
  {
   "cell_type": "code",
   "execution_count": 13,
   "id": "f711e78a",
   "metadata": {},
   "outputs": [
    {
     "data": {
      "text/html": [
       "<div>\n",
       "<style scoped>\n",
       "    .dataframe tbody tr th:only-of-type {\n",
       "        vertical-align: middle;\n",
       "    }\n",
       "\n",
       "    .dataframe tbody tr th {\n",
       "        vertical-align: top;\n",
       "    }\n",
       "\n",
       "    .dataframe thead th {\n",
       "        text-align: right;\n",
       "    }\n",
       "</style>\n",
       "<table border=\"1\" class=\"dataframe\">\n",
       "  <thead>\n",
       "    <tr style=\"text-align: right;\">\n",
       "      <th></th>\n",
       "      <th>incidents</th>\n",
       "    </tr>\n",
       "    <tr>\n",
       "      <th>INCIDENT_DATE</th>\n",
       "      <th></th>\n",
       "    </tr>\n",
       "  </thead>\n",
       "  <tbody>\n",
       "    <tr>\n",
       "      <th>2012-01-02</th>\n",
       "      <td>1</td>\n",
       "    </tr>\n",
       "    <tr>\n",
       "      <th>2012-01-04</th>\n",
       "      <td>2</td>\n",
       "    </tr>\n",
       "    <tr>\n",
       "      <th>2012-01-05</th>\n",
       "      <td>5</td>\n",
       "    </tr>\n",
       "    <tr>\n",
       "      <th>2012-01-06</th>\n",
       "      <td>3</td>\n",
       "    </tr>\n",
       "    <tr>\n",
       "      <th>2012-01-07</th>\n",
       "      <td>2</td>\n",
       "    </tr>\n",
       "  </tbody>\n",
       "</table>\n",
       "</div>"
      ],
      "text/plain": [
       "               incidents\n",
       "INCIDENT_DATE           \n",
       "2012-01-02             1\n",
       "2012-01-04             2\n",
       "2012-01-05             5\n",
       "2012-01-06             3\n",
       "2012-01-07             2"
      ]
     },
     "execution_count": 13,
     "metadata": {},
     "output_type": "execute_result"
    }
   ],
   "source": [
    "data.head()"
   ]
  },
  {
   "cell_type": "code",
   "execution_count": 14,
   "id": "d034265c",
   "metadata": {},
   "outputs": [],
   "source": [
    "# filter the data that has an index between 2012 and 2013\n",
    "data = data.loc['2012-01-01':'2013-01-01']"
   ]
  },
  {
   "cell_type": "code",
   "execution_count": 15,
   "id": "967c5c5c",
   "metadata": {},
   "outputs": [
    {
     "data": {
      "text/html": [
       "<div>\n",
       "<style scoped>\n",
       "    .dataframe tbody tr th:only-of-type {\n",
       "        vertical-align: middle;\n",
       "    }\n",
       "\n",
       "    .dataframe tbody tr th {\n",
       "        vertical-align: top;\n",
       "    }\n",
       "\n",
       "    .dataframe thead th {\n",
       "        text-align: right;\n",
       "    }\n",
       "</style>\n",
       "<table border=\"1\" class=\"dataframe\">\n",
       "  <thead>\n",
       "    <tr style=\"text-align: right;\">\n",
       "      <th></th>\n",
       "      <th>incidents</th>\n",
       "    </tr>\n",
       "    <tr>\n",
       "      <th>INCIDENT_DATE</th>\n",
       "      <th></th>\n",
       "    </tr>\n",
       "  </thead>\n",
       "  <tbody>\n",
       "    <tr>\n",
       "      <th>2012-01-02</th>\n",
       "      <td>1</td>\n",
       "    </tr>\n",
       "    <tr>\n",
       "      <th>2012-01-04</th>\n",
       "      <td>2</td>\n",
       "    </tr>\n",
       "    <tr>\n",
       "      <th>2012-01-05</th>\n",
       "      <td>5</td>\n",
       "    </tr>\n",
       "    <tr>\n",
       "      <th>2012-01-06</th>\n",
       "      <td>3</td>\n",
       "    </tr>\n",
       "    <tr>\n",
       "      <th>2012-01-07</th>\n",
       "      <td>2</td>\n",
       "    </tr>\n",
       "  </tbody>\n",
       "</table>\n",
       "</div>"
      ],
      "text/plain": [
       "               incidents\n",
       "INCIDENT_DATE           \n",
       "2012-01-02             1\n",
       "2012-01-04             2\n",
       "2012-01-05             5\n",
       "2012-01-06             3\n",
       "2012-01-07             2"
      ]
     },
     "execution_count": 15,
     "metadata": {},
     "output_type": "execute_result"
    }
   ],
   "source": [
    "data.head()"
   ]
  },
  {
   "cell_type": "code",
   "execution_count": 16,
   "id": "01f98e2c",
   "metadata": {},
   "outputs": [],
   "source": [
    "data = data.fillna(0)"
   ]
  },
  {
   "cell_type": "code",
   "execution_count": 17,
   "id": "336dd2b1",
   "metadata": {},
   "outputs": [
    {
     "data": {
      "text/html": [
       "<div>\n",
       "<style scoped>\n",
       "    .dataframe tbody tr th:only-of-type {\n",
       "        vertical-align: middle;\n",
       "    }\n",
       "\n",
       "    .dataframe tbody tr th {\n",
       "        vertical-align: top;\n",
       "    }\n",
       "\n",
       "    .dataframe thead th {\n",
       "        text-align: right;\n",
       "    }\n",
       "</style>\n",
       "<table border=\"1\" class=\"dataframe\">\n",
       "  <thead>\n",
       "    <tr style=\"text-align: right;\">\n",
       "      <th></th>\n",
       "      <th>incidents</th>\n",
       "    </tr>\n",
       "    <tr>\n",
       "      <th>INCIDENT_DATE</th>\n",
       "      <th></th>\n",
       "    </tr>\n",
       "  </thead>\n",
       "  <tbody>\n",
       "    <tr>\n",
       "      <th>2012-01-02</th>\n",
       "      <td>1</td>\n",
       "    </tr>\n",
       "    <tr>\n",
       "      <th>2012-01-04</th>\n",
       "      <td>2</td>\n",
       "    </tr>\n",
       "    <tr>\n",
       "      <th>2012-01-05</th>\n",
       "      <td>5</td>\n",
       "    </tr>\n",
       "    <tr>\n",
       "      <th>2012-01-06</th>\n",
       "      <td>3</td>\n",
       "    </tr>\n",
       "    <tr>\n",
       "      <th>2012-01-07</th>\n",
       "      <td>2</td>\n",
       "    </tr>\n",
       "  </tbody>\n",
       "</table>\n",
       "</div>"
      ],
      "text/plain": [
       "               incidents\n",
       "INCIDENT_DATE           \n",
       "2012-01-02             1\n",
       "2012-01-04             2\n",
       "2012-01-05             5\n",
       "2012-01-06             3\n",
       "2012-01-07             2"
      ]
     },
     "execution_count": 17,
     "metadata": {},
     "output_type": "execute_result"
    }
   ],
   "source": [
    "data.head()"
   ]
  },
  {
   "cell_type": "code",
   "execution_count": 18,
   "id": "a69c751f",
   "metadata": {},
   "outputs": [
    {
     "name": "stdout",
     "output_type": "stream",
     "text": [
      "<class 'pandas.core.frame.DataFrame'>\n",
      "DatetimeIndex: 338 entries, 2012-01-02 to 2013-01-01\n",
      "Data columns (total 1 columns):\n",
      " #   Column     Non-Null Count  Dtype\n",
      "---  ------     --------------  -----\n",
      " 0   incidents  338 non-null    int64\n",
      "dtypes: int64(1)\n",
      "memory usage: 5.3 KB\n"
     ]
    }
   ],
   "source": [
    "data.info()"
   ]
  },
  {
   "cell_type": "code",
   "execution_count": 19,
   "id": "456a3f4d",
   "metadata": {},
   "outputs": [],
   "source": [
    "data['incidents'] = data['incidents'].astype('int')"
   ]
  },
  {
   "cell_type": "code",
   "execution_count": 20,
   "id": "afa476b4",
   "metadata": {},
   "outputs": [
    {
     "name": "stdout",
     "output_type": "stream",
     "text": [
      "<class 'pandas.core.frame.DataFrame'>\n",
      "DatetimeIndex: 338 entries, 2012-01-02 to 2013-01-01\n",
      "Data columns (total 1 columns):\n",
      " #   Column     Non-Null Count  Dtype\n",
      "---  ------     --------------  -----\n",
      " 0   incidents  338 non-null    int64\n",
      "dtypes: int64(1)\n",
      "memory usage: 5.3 KB\n"
     ]
    }
   ],
   "source": [
    "data.info()"
   ]
  },
  {
   "cell_type": "code",
   "execution_count": 21,
   "id": "64d1da49",
   "metadata": {},
   "outputs": [],
   "source": [
    "data.head()\n",
    "# the data dataframe has as index the date and as column the number of incidents\n",
    "# but it doesn't has the dates where there are no incidents\n",
    "# so we need to create a new dataframe with all the dates between 2012 and 2013\n",
    "# and then merge it with the data dataframe\n",
    "\n",
    "tmp_data = pd.DataFrame({'date':pd.date_range(start='2012-01-01', end='2013-01-01')})\n",
    "tmp_data = tmp_data.set_index('date')"
   ]
  },
  {
   "cell_type": "code",
   "execution_count": 22,
   "id": "2307eba6",
   "metadata": {},
   "outputs": [],
   "source": [
    "# merge the data with the tmp_data\n",
    "data = tmp_data.merge(data, how='left', left_index=True, right_index=True)"
   ]
  },
  {
   "cell_type": "code",
   "execution_count": 23,
   "id": "e31557a3",
   "metadata": {},
   "outputs": [
    {
     "data": {
      "text/html": [
       "<div>\n",
       "<style scoped>\n",
       "    .dataframe tbody tr th:only-of-type {\n",
       "        vertical-align: middle;\n",
       "    }\n",
       "\n",
       "    .dataframe tbody tr th {\n",
       "        vertical-align: top;\n",
       "    }\n",
       "\n",
       "    .dataframe thead th {\n",
       "        text-align: right;\n",
       "    }\n",
       "</style>\n",
       "<table border=\"1\" class=\"dataframe\">\n",
       "  <thead>\n",
       "    <tr style=\"text-align: right;\">\n",
       "      <th></th>\n",
       "      <th>incidents</th>\n",
       "    </tr>\n",
       "    <tr>\n",
       "      <th>date</th>\n",
       "      <th></th>\n",
       "    </tr>\n",
       "  </thead>\n",
       "  <tbody>\n",
       "    <tr>\n",
       "      <th>2012-01-01</th>\n",
       "      <td>NaN</td>\n",
       "    </tr>\n",
       "    <tr>\n",
       "      <th>2012-01-02</th>\n",
       "      <td>1.0</td>\n",
       "    </tr>\n",
       "    <tr>\n",
       "      <th>2012-01-03</th>\n",
       "      <td>NaN</td>\n",
       "    </tr>\n",
       "    <tr>\n",
       "      <th>2012-01-04</th>\n",
       "      <td>2.0</td>\n",
       "    </tr>\n",
       "    <tr>\n",
       "      <th>2012-01-05</th>\n",
       "      <td>5.0</td>\n",
       "    </tr>\n",
       "  </tbody>\n",
       "</table>\n",
       "</div>"
      ],
      "text/plain": [
       "            incidents\n",
       "date                 \n",
       "2012-01-01        NaN\n",
       "2012-01-02        1.0\n",
       "2012-01-03        NaN\n",
       "2012-01-04        2.0\n",
       "2012-01-05        5.0"
      ]
     },
     "execution_count": 23,
     "metadata": {},
     "output_type": "execute_result"
    }
   ],
   "source": [
    "data.head()"
   ]
  },
  {
   "cell_type": "code",
   "execution_count": 24,
   "id": "241aebd1",
   "metadata": {},
   "outputs": [],
   "source": [
    "data_2012 = data.loc['2012-01-01':'2012-12-31']\n",
    "data_2013 = data.loc['2013-01-01':'2013-12-31']"
   ]
  },
  {
   "cell_type": "code",
   "execution_count": 25,
   "id": "8c24f573",
   "metadata": {},
   "outputs": [
    {
     "data": {
      "text/plain": [
       "366"
      ]
     },
     "execution_count": 25,
     "metadata": {},
     "output_type": "execute_result"
    }
   ],
   "source": [
    "len(data_2012)"
   ]
  },
  {
   "cell_type": "code",
   "execution_count": null,
   "id": "ca635275",
   "metadata": {},
   "outputs": [],
   "source": []
  },
  {
   "cell_type": "code",
   "execution_count": 26,
   "id": "05e36d1f",
   "metadata": {},
   "outputs": [
    {
     "data": {
      "text/html": [
       "<div>\n",
       "<style scoped>\n",
       "    .dataframe tbody tr th:only-of-type {\n",
       "        vertical-align: middle;\n",
       "    }\n",
       "\n",
       "    .dataframe tbody tr th {\n",
       "        vertical-align: top;\n",
       "    }\n",
       "\n",
       "    .dataframe thead th {\n",
       "        text-align: right;\n",
       "    }\n",
       "</style>\n",
       "<table border=\"1\" class=\"dataframe\">\n",
       "  <thead>\n",
       "    <tr style=\"text-align: right;\">\n",
       "      <th></th>\n",
       "      <th>incidents</th>\n",
       "    </tr>\n",
       "    <tr>\n",
       "      <th>date</th>\n",
       "      <th></th>\n",
       "    </tr>\n",
       "  </thead>\n",
       "  <tbody>\n",
       "    <tr>\n",
       "      <th>2012-01-01</th>\n",
       "      <td>NaN</td>\n",
       "    </tr>\n",
       "    <tr>\n",
       "      <th>2012-01-02</th>\n",
       "      <td>1.0</td>\n",
       "    </tr>\n",
       "    <tr>\n",
       "      <th>2012-01-03</th>\n",
       "      <td>NaN</td>\n",
       "    </tr>\n",
       "    <tr>\n",
       "      <th>2012-01-04</th>\n",
       "      <td>2.0</td>\n",
       "    </tr>\n",
       "    <tr>\n",
       "      <th>2012-01-05</th>\n",
       "      <td>5.0</td>\n",
       "    </tr>\n",
       "  </tbody>\n",
       "</table>\n",
       "</div>"
      ],
      "text/plain": [
       "            incidents\n",
       "date                 \n",
       "2012-01-01        NaN\n",
       "2012-01-02        1.0\n",
       "2012-01-03        NaN\n",
       "2012-01-04        2.0\n",
       "2012-01-05        5.0"
      ]
     },
     "execution_count": 26,
     "metadata": {},
     "output_type": "execute_result"
    }
   ],
   "source": [
    "data_2012.head()"
   ]
  },
  {
   "cell_type": "code",
   "execution_count": 27,
   "id": "b7812760",
   "metadata": {},
   "outputs": [],
   "source": [
    "mu = data_2012['incidents'].mean()\n",
    "sigma = data_2012['incidents'].std()"
   ]
  },
  {
   "cell_type": "code",
   "execution_count": 28,
   "id": "8226aa7d",
   "metadata": {},
   "outputs": [
    {
     "data": {
      "text/plain": [
       "(2.7744807121661723, 1.568723827446849)"
      ]
     },
     "execution_count": 28,
     "metadata": {},
     "output_type": "execute_result"
    }
   ],
   "source": [
    "mu, sigma"
   ]
  },
  {
   "cell_type": "code",
   "execution_count": 29,
   "id": "a7167f43",
   "metadata": {},
   "outputs": [],
   "source": [
    "# we also take the average of strike incidents in 2013\n",
    "xbar = data_2013['incidents'].mean()"
   ]
  },
  {
   "cell_type": "code",
   "execution_count": 30,
   "id": "8208698d",
   "metadata": {},
   "outputs": [],
   "source": [
    "# what is our sample size?\n",
    "n = data_2013['incidents'].count()"
   ]
  },
  {
   "cell_type": "code",
   "execution_count": 31,
   "id": "050d0d73",
   "metadata": {},
   "outputs": [
    {
     "data": {
      "text/plain": [
       "1"
      ]
     },
     "execution_count": 31,
     "metadata": {},
     "output_type": "execute_result"
    }
   ],
   "source": [
    "\n",
    "n"
   ]
  },
  {
   "cell_type": "code",
   "execution_count": 32,
   "id": "aac3bd27",
   "metadata": {},
   "outputs": [
    {
     "data": {
      "text/plain": [
       "1.568723827446849"
      ]
     },
     "execution_count": 32,
     "metadata": {},
     "output_type": "execute_result"
    }
   ],
   "source": [
    "# calculate the error\n",
    "SE = sigma / math.sqrt(n)\n",
    "SE"
   ]
  },
  {
   "cell_type": "code",
   "execution_count": 33,
   "id": "0c42145c",
   "metadata": {},
   "outputs": [
    {
     "data": {
      "text/plain": [
       "-1.1311619554183732"
      ]
     },
     "execution_count": 33,
     "metadata": {},
     "output_type": "execute_result"
    }
   ],
   "source": [
    "# calculate the zscore for the mean of 2013 (xbar)\n",
    "zscore = (xbar - mu) / SE\n",
    "zscore"
   ]
  },
  {
   "cell_type": "code",
   "execution_count": 34,
   "id": "58d14d7e",
   "metadata": {},
   "outputs": [],
   "source": [
    "# calculate the critical value of the alpha level on side of the \n",
    "# distribution, because we're only interested in a mean decline\n",
    "alpha = 0.05\n",
    "critical_value = stats.norm.ppf(1 - alpha)\n",
    "critical_value*=-1"
   ]
  },
  {
   "cell_type": "code",
   "execution_count": 35,
   "id": "e82f3bd5",
   "metadata": {},
   "outputs": [
    {
     "data": {
      "image/png": "[encoded data removed]",
      "text/plain": [
       "<Figure size 640x480 with 1 Axes>"
      ]
     },
     "metadata": {},
     "output_type": "display_data"
    }
   ],
   "source": [
    "# plot the normal distribution\n",
    "samples = 100\n",
    "x_plot = np.linspace(-3.5,3.5, samples)\n",
    "y_plot = stats.norm.pdf(x_plot, 0, 1)\n",
    "plt.plot(x_plot, y_plot)\n",
    "# plot the critical region\n",
    "x_crit = np.linspace(-3.5, critical_value, samples)\n",
    "y_crit = stats.norm.pdf(x_crit, 0,1)\n",
    "plt.fill_between(x_crit,y_crit, color = 'red')\n",
    "plt.plot([zscore,zscore], [0, stats.norm.pdf(zscore, 0, 1)], color = 'blue')\n",
    "plt.legend(['zscore','critical region'])\n",
    "plt.show()"
   ]
  },
  {
   "cell_type": "code",
   "execution_count": 36,
   "id": "9566ca70",
   "metadata": {},
   "outputs": [
    {
     "data": {
      "text/plain": [
       "False"
      ]
     },
     "execution_count": 36,
     "metadata": {},
     "output_type": "execute_result"
    }
   ],
   "source": [
    "# so given the values, lets test the alternative hypothesis\n",
    "zscore < critical_value"
   ]
  },
  {
   "cell_type": "code",
   "execution_count": 37,
   "id": "0f810432",
   "metadata": {},
   "outputs": [],
   "source": [
    "# =============\n",
    "# ==== housing prices=====\n",
    "# ============="
   ]
  },
  {
   "cell_type": "code",
   "execution_count": 38,
   "id": "1d017ee7",
   "metadata": {},
   "outputs": [
    {
     "data": {
      "text/plain": [
       "0    319711.0\n",
       "1    289066.0\n",
       "2    212512.0\n",
       "3    195347.0\n",
       "4    245589.0\n",
       "dtype: float64"
      ]
     },
     "execution_count": 38,
     "metadata": {},
     "output_type": "execute_result"
    }
   ],
   "source": [
    "# data = np.random.random_sample(25) * 360000 + 100000 / floor it\n",
    "housing_prices = pd.Series(\n",
    "    [319711.,  289066.,  212512.,  195347.,  245589.,  418577.,\n",
    "     301112.,  327251.,  434408.,  224529.,  450276.,  423406.,\n",
    "     230321.,  275374.,  215945.,  209971.,  322661.,  292517.,\n",
    "     378317.,  194028.,  347261.,  104542.,  231457.,  335174., \n",
    "     369656.])\n",
    "housing_prices.head()"
   ]
  },
  {
   "cell_type": "code",
   "execution_count": 39,
   "id": "0f1d69e4",
   "metadata": {},
   "outputs": [],
   "source": [
    "mu_usa = 289.100"
   ]
  },
  {
   "cell_type": "code",
   "execution_count": 40,
   "id": "f3a26b13",
   "metadata": {},
   "outputs": [],
   "source": [
    "# to perform a t test more quickly, we can use scipy.stats ttest_1samp\n",
    "# for a one sample t test. The function returns the t statistic and the p-value in one single call. Slightly different results but close t_statistic, p = stats.ttest_1samp(housing_prices, mu)"
   ]
  },
  {
   "cell_type": "code",
   "execution_count": 41,
   "id": "45956f90",
   "metadata": {},
   "outputs": [],
   "source": [
    "t_statistic, p = stats.ttest_1samp(housing_prices, mu_usa)"
   ]
  },
  {
   "cell_type": "code",
   "execution_count": 42,
   "id": "004a73c9",
   "metadata": {},
   "outputs": [
    {
     "data": {
      "text/plain": [
       "(16.62005836669496, 1.1405457908951438e-14)"
      ]
     },
     "execution_count": 42,
     "metadata": {},
     "output_type": "execute_result"
    }
   ],
   "source": [
    "t_statistic, p"
   ]
  },
  {
   "cell_type": "code",
   "execution_count": 43,
   "id": "bc0afcb7",
   "metadata": {},
   "outputs": [
    {
     "data": {
      "text/plain": [
       "True"
      ]
     },
     "execution_count": 43,
     "metadata": {},
     "output_type": "execute_result"
    }
   ],
   "source": [
    "# to test our alternative hypothesis, we need to calculate the critical value\n",
    "alpha = 0.05\n",
    "p < alpha/2"
   ]
  },
  {
   "cell_type": "code",
   "execution_count": 44,
   "id": "2de50816",
   "metadata": {},
   "outputs": [],
   "source": [
    "mean = housing_prices.mean()"
   ]
  },
  {
   "cell_type": "code",
   "execution_count": 45,
   "id": "c8589de1",
   "metadata": {},
   "outputs": [
    {
     "data": {
      "text/plain": [
       "293960.32"
      ]
     },
     "execution_count": 45,
     "metadata": {},
     "output_type": "execute_result"
    }
   ],
   "source": [
    "mean"
   ]
  },
  {
   "cell_type": "code",
   "execution_count": 46,
   "id": "cecd47af",
   "metadata": {},
   "outputs": [],
   "source": [
    "\n",
    "\n",
    "\n",
    "\n",
    "# ==========================\n",
    "# ========== two sample t-test ======\n",
    "# ==========================\n",
    "# two different data samples\n",
    "# ex: hight heels and flats\n",
    "# null -> both are the same\n",
    "# alternative -> they are different\n",
    "\n",
    "sample_a = np.array([4.9, 6.2, 1.0, -4.8, 2.2, 5.4])\n",
    "sample_b = np.array([2.8, 6.9, 8.4])"
   ]
  },
  {
   "cell_type": "code",
   "execution_count": 47,
   "id": "825f664e",
   "metadata": {},
   "outputs": [
    {
     "data": {
      "text/plain": [
       "13.914722222222222"
      ]
     },
     "execution_count": 47,
     "metadata": {},
     "output_type": "execute_result"
    }
   ],
   "source": [
    "sample_a.var()"
   ]
  },
  {
   "cell_type": "code",
   "execution_count": 48,
   "id": "2ba3d32f",
   "metadata": {},
   "outputs": [
    {
     "data": {
      "text/plain": [
       "5.602222222222223"
      ]
     },
     "execution_count": 48,
     "metadata": {},
     "output_type": "execute_result"
    }
   ],
   "source": [
    "sample_b.var()"
   ]
  },
  {
   "cell_type": "code",
   "execution_count": 49,
   "id": "807aee70",
   "metadata": {},
   "outputs": [
    {
     "data": {
      "text/plain": [
       "Ttest_indResult(statistic=-1.3263334711127697, pvalue=0.22636455334070857)"
      ]
     },
     "execution_count": 49,
     "metadata": {},
     "output_type": "execute_result"
    }
   ],
   "source": [
    "# check the variance for equal variance\n",
    "stats.ttest_ind(a = sample_a, b = sample_b)\n",
    "\n",
    "# pvalue < 0.05 reject null hypothesis\n",
    "\n",
    "# I cannot reject the null hypothesis"
   ]
  },
  {
   "cell_type": "markdown",
   "id": "e9b432e0",
   "metadata": {},
   "source": [
    "=============\n",
    "==== ANOVA =====\n",
    "============="
   ]
  },
  {
   "cell_type": "code",
   "execution_count": 50,
   "id": "8b53a1a9",
   "metadata": {},
   "outputs": [],
   "source": [
    "# The four sample sets with guitar string sustain lengths\n",
    "guitar1 = np.array([8021., 6947., 8411., 7593., 7781.])\n",
    "guitar2 = np.array([7013., 6222., 7202., 6437., 5946., 6917., 6152.])\n",
    "guitar3 = np.array([9896., 9497., 8986., 8496.])\n",
    "guitar4 = np.array([8253., 8467., 7898., 7699., 8738., 8638.])"
   ]
  },
  {
   "cell_type": "code",
   "execution_count": 51,
   "id": "6e4ce385",
   "metadata": {},
   "outputs": [
    {
     "name": "stdout",
     "output_type": "stream",
     "text": [
      "26.652942076110193\n",
      "7.687999312604955e-07\n"
     ]
    },
    {
     "data": {
      "text/plain": [
       "False"
      ]
     },
     "execution_count": 51,
     "metadata": {},
     "output_type": "execute_result"
    }
   ],
   "source": [
    "# One-way ANOVA the convenient way\n",
    "f_value, p_value = stats.f_oneway(guitar1, guitar2, guitar3, guitar4)\n",
    "print(f_value)\n",
    "print(p_value)\n",
    "\n",
    "# Null hypothesis test at alpha level .05\n",
    "p_value > .05"
   ]
  },
  {
   "cell_type": "code",
   "execution_count": 52,
   "id": "afdee96c",
   "metadata": {},
   "outputs": [
    {
     "name": "stdout",
     "output_type": "stream",
     "text": [
      "    Multiple Comparison of Means - Tukey HSD, FWER=0.05    \n",
      "===========================================================\n",
      "group1 group2  meandiff  p-adj    lower      upper   reject\n",
      "-----------------------------------------------------------\n",
      "daddar ernies -1726.5952    0.0 -2518.7154 -934.4751   True\n",
      "daddar fendor   936.5833 0.0449    17.5349 1855.6318   True\n",
      "daddar olixer  -531.5667 0.3319 -1393.7105  330.5772  False\n",
      "ernies fendor  2663.1786    0.0  1770.7749 3555.5822   True\n",
      "ernies olixer  1195.0286 0.0038   361.3462  2028.711   True\n",
      "fendor olixer   -1468.15  0.002 -2423.2532 -513.0468   True\n",
      "-----------------------------------------------------------\n"
     ]
    },
    {
     "name": "stderr",
     "output_type": "stream",
     "text": [
      "/tmp/ipykernel_57393/1756394105.py:11: FutureWarning: The frame.append method is deprecated and will be removed from pandas in a future version. Use pandas.concat instead.\n",
      "  data = x1.append(x2).append(x3).append(x4)\n",
      "/tmp/ipykernel_57393/1756394105.py:11: FutureWarning: The frame.append method is deprecated and will be removed from pandas in a future version. Use pandas.concat instead.\n",
      "  data = x1.append(x2).append(x3).append(x4)\n"
     ]
    }
   ],
   "source": [
    "# Construct single dataset for Tukey-kramer HSD test\n",
    "x1 = pd.DataFrame(guitar1, columns=['observation'])\n",
    "x1['grouplabel'] = 'olixer'\n",
    "x2 = pd.DataFrame(guitar2, columns=['observation'])\n",
    "x2['grouplabel'] = 'ernies'\n",
    "x3 = pd.DataFrame(guitar3, columns=['observation'])\n",
    "x3['grouplabel'] = 'fendor'\n",
    "x4 = pd.DataFrame(guitar4, columns=['observation'])\n",
    "x4['grouplabel'] = 'daddar'\n",
    "\n",
    "data = x1.append(x2).append(x3).append(x4)\n",
    "data.head()\n",
    "\n",
    "result = sm.stats.multicomp.pairwise_tukeyhsd(data.observation, data.grouplabel)\n",
    "print(result.summary())"
   ]
  },
  {
   "cell_type": "code",
   "execution_count": 57,
   "id": "ba8bf9d4",
   "metadata": {},
   "outputs": [
    {
     "name": "stderr",
     "output_type": "stream",
     "text": [
      "/tmp/ipykernel_57393/2035321521.py:2: FutureWarning: \n",
      "\n",
      "`shade` is now deprecated in favor of `fill`; setting `fill=True`.\n",
      "This will become an error in seaborn v0.14.0; please update your code.\n",
      "\n",
      "  sns.kdeplot(guitar1, label='olixer', shade=True)\n",
      "/tmp/ipykernel_57393/2035321521.py:3: FutureWarning: \n",
      "\n",
      "`shade` is now deprecated in favor of `fill`; setting `fill=True`.\n",
      "This will become an error in seaborn v0.14.0; please update your code.\n",
      "\n",
      "  sns.kdeplot(guitar2, label='ernies', shade=True)\n",
      "/tmp/ipykernel_57393/2035321521.py:4: FutureWarning: \n",
      "\n",
      "`shade` is now deprecated in favor of `fill`; setting `fill=True`.\n",
      "This will become an error in seaborn v0.14.0; please update your code.\n",
      "\n",
      "  sns.kdeplot(guitar3, label='fendor', shade=True)\n",
      "/tmp/ipykernel_57393/2035321521.py:5: FutureWarning: \n",
      "\n",
      "`shade` is now deprecated in favor of `fill`; setting `fill=True`.\n",
      "This will become an error in seaborn v0.14.0; please update your code.\n",
      "\n",
      "  sns.kdeplot(guitar4, label='daddar', shade=True)\n",
      "/tmp/ipykernel_57393/2035321521.py:7: FutureWarning: \n",
      "\n",
      "`shade` is now deprecated in favor of `fill`; setting `fill=True`.\n",
      "This will become an error in seaborn v0.14.0; please update your code.\n",
      "\n",
      "  sns.kdeplot(all_data, label='all', shade=True)\n"
     ]
    },
    {
     "data": {
      "image/png": "[encoded data removed]",
      "text/plain": [
       "<Figure size 640x480 with 1 Axes>"
      ]
     },
     "metadata": {},
     "output_type": "display_data"
    }
   ],
   "source": [
    "# Construct kernel density estimate plot\n",
    "sns.kdeplot(guitar1, label='olixer', shade=True)\n",
    "sns.kdeplot(guitar2, label='ernies', shade=True)\n",
    "sns.kdeplot(guitar3, label='fendor', shade=True)\n",
    "sns.kdeplot(guitar4, label='daddar', shade=True)\n",
    "all_data = np.concatenate((guitar1, guitar2, guitar3, guitar4))\n",
    "sns.kdeplot(all_data, label='all', shade=True)\n",
    "\n",
    "plt.legend()\n",
    "plt.show()\n",
    "\n"
   ]
  }
 ],
 "metadata": {
  "kernelspec": {
   "display_name": "Python 3 (ipykernel)",
   "language": "python",
   "name": "python3"
  },
  "language_info": {
   "codemirror_mode": {
    "name": "ipython",
    "version": 3
   },
   "file_extension": ".py",
   "mimetype": "text/x-python",
   "name": "python",
   "nbconvert_exporter": "python",
   "pygments_lexer": "ipython3",
   "version": "3.10.9"
  }
 },
 "nbformat": 4,
 "nbformat_minor": 5
}
